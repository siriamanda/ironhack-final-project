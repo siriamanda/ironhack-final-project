{
 "cells": [
  {
   "cell_type": "code",
   "execution_count": 89,
   "metadata": {},
   "outputs": [],
   "source": [
    "import pandas as pd\n",
    "import numpy as np\n",
    "\n",
    "import seaborn as sns\n",
    "import plotly.express as px\n",
    "from matplotlib import pyplot as plt \n",
    "%matplotlib inline\n",
    "\n",
    "import warnings\n",
    "warnings.filterwarnings('ignore') \n",
    "\n",
    "from textblob import TextBlob\n",
    "\n",
    "from wordcloud import WordCloud, STOPWORDS, ImageColorGenerator"
   ]
  },
  {
   "cell_type": "code",
   "execution_count": 90,
   "metadata": {},
   "outputs": [],
   "source": [
    "df = pd.read_csv('asos_reviews_clean_date.csv')"
   ]
  },
  {
   "cell_type": "code",
   "execution_count": 91,
   "metadata": {},
   "outputs": [
    {
     "data": {
      "text/html": [
       "<div>\n",
       "<style scoped>\n",
       "    .dataframe tbody tr th:only-of-type {\n",
       "        vertical-align: middle;\n",
       "    }\n",
       "\n",
       "    .dataframe tbody tr th {\n",
       "        vertical-align: top;\n",
       "    }\n",
       "\n",
       "    .dataframe thead th {\n",
       "        text-align: right;\n",
       "    }\n",
       "</style>\n",
       "<table border=\"1\" class=\"dataframe\">\n",
       "  <thead>\n",
       "    <tr style=\"text-align: right;\">\n",
       "      <th></th>\n",
       "      <th>Unnamed: 0</th>\n",
       "      <th>date</th>\n",
       "      <th>review</th>\n",
       "      <th>stars</th>\n",
       "      <th>length</th>\n",
       "      <th>polarity_before_clean</th>\n",
       "      <th>lower</th>\n",
       "      <th>no_punc</th>\n",
       "      <th>no_stop</th>\n",
       "      <th>no_num</th>\n",
       "      <th>words_removed</th>\n",
       "      <th>token</th>\n",
       "      <th>pos_tags</th>\n",
       "      <th>lemmatized</th>\n",
       "      <th>joined</th>\n",
       "      <th>polarity_after_clean</th>\n",
       "    </tr>\n",
       "  </thead>\n",
       "  <tbody>\n",
       "    <tr>\n",
       "      <th>0</th>\n",
       "      <td>0</td>\n",
       "      <td>2020-12-09</td>\n",
       "      <td>Cristy was amazing                            ...</td>\n",
       "      <td>5</td>\n",
       "      <td>225</td>\n",
       "      <td>0.580208</td>\n",
       "      <td>cristy was amazing i spoke with cristy and she...</td>\n",
       "      <td>cristy was amazing i spoke with cristy and she...</td>\n",
       "      <td>cristy amazing spoke cristy brilliant although...</td>\n",
       "      <td>cristy amazing spoke cristy brilliant although...</td>\n",
       "      <td>cristy amazing spoke cristy brilliant although...</td>\n",
       "      <td>['cristy', 'amazing', 'spoke', 'cristy', 'bril...</td>\n",
       "      <td>[('cristy', 'JJ'), ('amazing', 'VBG'), ('spoke...</td>\n",
       "      <td>['cristy', 'amaze', 'spoke', 'cristy', 'brilli...</td>\n",
       "      <td>cristy amaze spoke cristy brilliant although c...</td>\n",
       "      <td>0.536111</td>\n",
       "    </tr>\n",
       "    <tr>\n",
       "      <th>1</th>\n",
       "      <td>1</td>\n",
       "      <td>2020-12-09</td>\n",
       "      <td>Unhappy customer                              ...</td>\n",
       "      <td>1</td>\n",
       "      <td>1694</td>\n",
       "      <td>-0.061012</td>\n",
       "      <td>unhappy customer i placed an order at the end ...</td>\n",
       "      <td>unhappy customer i placed an order at the end ...</td>\n",
       "      <td>unhappy customer placed order end november bla...</td>\n",
       "      <td>unhappy customer placed order end november bla...</td>\n",
       "      <td>unhappy placed end november black friday disco...</td>\n",
       "      <td>['unhappy', 'placed', 'end', 'november', 'blac...</td>\n",
       "      <td>[('unhappy', 'JJ'), ('placed', 'VBD'), ('end',...</td>\n",
       "      <td>['unhappy', 'place', 'end', 'november', 'black...</td>\n",
       "      <td>unhappy place end november black friday discou...</td>\n",
       "      <td>-0.201667</td>\n",
       "    </tr>\n",
       "    <tr>\n",
       "      <th>2</th>\n",
       "      <td>2</td>\n",
       "      <td>2020-12-09</td>\n",
       "      <td>Still Waiting                                P...</td>\n",
       "      <td>2</td>\n",
       "      <td>145</td>\n",
       "      <td>-0.195000</td>\n",
       "      <td>still waiting placed an order 3rd december and...</td>\n",
       "      <td>still waiting placed an order 3rd december and...</td>\n",
       "      <td>still waiting placed order 3rd december still ...</td>\n",
       "      <td>still waiting placed order rd december still w...</td>\n",
       "      <td>still waiting placed rd december still waiting...</td>\n",
       "      <td>['still', 'waiting', 'placed', 'rd', 'december...</td>\n",
       "      <td>[('still', 'RB'), ('waiting', 'VBG'), ('placed...</td>\n",
       "      <td>['still', 'wait', 'place', 'rd', 'december', '...</td>\n",
       "      <td>still wait place rd december still wait suppos...</td>\n",
       "      <td>-0.300000</td>\n",
       "    </tr>\n",
       "    <tr>\n",
       "      <th>3</th>\n",
       "      <td>3</td>\n",
       "      <td>2020-12-09</td>\n",
       "      <td>Great after sales support                     ...</td>\n",
       "      <td>5</td>\n",
       "      <td>94</td>\n",
       "      <td>0.900000</td>\n",
       "      <td>great after sales support great after sales su...</td>\n",
       "      <td>great after sales support great after sales su...</td>\n",
       "      <td>great sales support great sales support thank</td>\n",
       "      <td>great sales support great sales support thank</td>\n",
       "      <td>great sales support great sales support thank</td>\n",
       "      <td>['great', 'sales', 'support', 'great', 'sales'...</td>\n",
       "      <td>[('great', 'JJ'), ('sales', 'NNS'), ('support'...</td>\n",
       "      <td>['great', 'sale', 'support', 'great', 'sale', ...</td>\n",
       "      <td>great sale support great sale support thank</td>\n",
       "      <td>0.800000</td>\n",
       "    </tr>\n",
       "    <tr>\n",
       "      <th>4</th>\n",
       "      <td>4</td>\n",
       "      <td>2020-12-09</td>\n",
       "      <td>Michael was very polite and helpful…          ...</td>\n",
       "      <td>5</td>\n",
       "      <td>139</td>\n",
       "      <td>0.200000</td>\n",
       "      <td>michael was very polite and helpful… michael w...</td>\n",
       "      <td>michael was very polite and helpful michael wa...</td>\n",
       "      <td>michael polite helpful michael polite helpful ...</td>\n",
       "      <td>michael polite helpful michael polite helpful ...</td>\n",
       "      <td>michael polite helpful michael polite helpful ...</td>\n",
       "      <td>['michael', 'polite', 'helpful', 'michael', 'p...</td>\n",
       "      <td>[('michael', 'NN'), ('polite', 'VBP'), ('helpf...</td>\n",
       "      <td>['michael', 'polite', 'helpful', 'michael', 'p...</td>\n",
       "      <td>michael polite helpful michael polite helpful ...</td>\n",
       "      <td>0.200000</td>\n",
       "    </tr>\n",
       "  </tbody>\n",
       "</table>\n",
       "</div>"
      ],
      "text/plain": [
       "   Unnamed: 0        date                                             review  \\\n",
       "0           0  2020-12-09  Cristy was amazing                            ...   \n",
       "1           1  2020-12-09  Unhappy customer                              ...   \n",
       "2           2  2020-12-09  Still Waiting                                P...   \n",
       "3           3  2020-12-09  Great after sales support                     ...   \n",
       "4           4  2020-12-09  Michael was very polite and helpful…          ...   \n",
       "\n",
       "   stars  length  polarity_before_clean  \\\n",
       "0      5     225               0.580208   \n",
       "1      1    1694              -0.061012   \n",
       "2      2     145              -0.195000   \n",
       "3      5      94               0.900000   \n",
       "4      5     139               0.200000   \n",
       "\n",
       "                                               lower  \\\n",
       "0  cristy was amazing i spoke with cristy and she...   \n",
       "1  unhappy customer i placed an order at the end ...   \n",
       "2  still waiting placed an order 3rd december and...   \n",
       "3  great after sales support great after sales su...   \n",
       "4  michael was very polite and helpful… michael w...   \n",
       "\n",
       "                                             no_punc  \\\n",
       "0  cristy was amazing i spoke with cristy and she...   \n",
       "1  unhappy customer i placed an order at the end ...   \n",
       "2  still waiting placed an order 3rd december and...   \n",
       "3  great after sales support great after sales su...   \n",
       "4  michael was very polite and helpful michael wa...   \n",
       "\n",
       "                                             no_stop  \\\n",
       "0  cristy amazing spoke cristy brilliant although...   \n",
       "1  unhappy customer placed order end november bla...   \n",
       "2  still waiting placed order 3rd december still ...   \n",
       "3      great sales support great sales support thank   \n",
       "4  michael polite helpful michael polite helpful ...   \n",
       "\n",
       "                                              no_num  \\\n",
       "0  cristy amazing spoke cristy brilliant although...   \n",
       "1  unhappy customer placed order end november bla...   \n",
       "2  still waiting placed order rd december still w...   \n",
       "3      great sales support great sales support thank   \n",
       "4  michael polite helpful michael polite helpful ...   \n",
       "\n",
       "                                       words_removed  \\\n",
       "0  cristy amazing spoke cristy brilliant although...   \n",
       "1  unhappy placed end november black friday disco...   \n",
       "2  still waiting placed rd december still waiting...   \n",
       "3      great sales support great sales support thank   \n",
       "4  michael polite helpful michael polite helpful ...   \n",
       "\n",
       "                                               token  \\\n",
       "0  ['cristy', 'amazing', 'spoke', 'cristy', 'bril...   \n",
       "1  ['unhappy', 'placed', 'end', 'november', 'blac...   \n",
       "2  ['still', 'waiting', 'placed', 'rd', 'december...   \n",
       "3  ['great', 'sales', 'support', 'great', 'sales'...   \n",
       "4  ['michael', 'polite', 'helpful', 'michael', 'p...   \n",
       "\n",
       "                                            pos_tags  \\\n",
       "0  [('cristy', 'JJ'), ('amazing', 'VBG'), ('spoke...   \n",
       "1  [('unhappy', 'JJ'), ('placed', 'VBD'), ('end',...   \n",
       "2  [('still', 'RB'), ('waiting', 'VBG'), ('placed...   \n",
       "3  [('great', 'JJ'), ('sales', 'NNS'), ('support'...   \n",
       "4  [('michael', 'NN'), ('polite', 'VBP'), ('helpf...   \n",
       "\n",
       "                                          lemmatized  \\\n",
       "0  ['cristy', 'amaze', 'spoke', 'cristy', 'brilli...   \n",
       "1  ['unhappy', 'place', 'end', 'november', 'black...   \n",
       "2  ['still', 'wait', 'place', 'rd', 'december', '...   \n",
       "3  ['great', 'sale', 'support', 'great', 'sale', ...   \n",
       "4  ['michael', 'polite', 'helpful', 'michael', 'p...   \n",
       "\n",
       "                                              joined  polarity_after_clean  \n",
       "0  cristy amaze spoke cristy brilliant although c...              0.536111  \n",
       "1  unhappy place end november black friday discou...             -0.201667  \n",
       "2  still wait place rd december still wait suppos...             -0.300000  \n",
       "3        great sale support great sale support thank              0.800000  \n",
       "4  michael polite helpful michael polite helpful ...              0.200000  "
      ]
     },
     "execution_count": 91,
     "metadata": {},
     "output_type": "execute_result"
    }
   ],
   "source": [
    "df.head()"
   ]
  },
  {
   "cell_type": "code",
   "execution_count": 92,
   "metadata": {},
   "outputs": [],
   "source": [
    "df = df[['date', 'stars', 'length', 'lemmatized', 'joined']]"
   ]
  },
  {
   "cell_type": "code",
   "execution_count": 93,
   "metadata": {},
   "outputs": [],
   "source": [
    "# Calculate the polarity of reviews and add a column with the result\n",
    "\n",
    "df['polarity'] = df['lemmatized'].apply(lambda x: TextBlob(x).sentiment.polarity)"
   ]
  },
  {
   "cell_type": "code",
   "execution_count": 94,
   "metadata": {},
   "outputs": [
    {
     "data": {
      "text/html": [
       "<div>\n",
       "<style scoped>\n",
       "    .dataframe tbody tr th:only-of-type {\n",
       "        vertical-align: middle;\n",
       "    }\n",
       "\n",
       "    .dataframe tbody tr th {\n",
       "        vertical-align: top;\n",
       "    }\n",
       "\n",
       "    .dataframe thead th {\n",
       "        text-align: right;\n",
       "    }\n",
       "</style>\n",
       "<table border=\"1\" class=\"dataframe\">\n",
       "  <thead>\n",
       "    <tr style=\"text-align: right;\">\n",
       "      <th></th>\n",
       "      <th>date</th>\n",
       "      <th>stars</th>\n",
       "      <th>length</th>\n",
       "      <th>lemmatized</th>\n",
       "      <th>joined</th>\n",
       "      <th>polarity</th>\n",
       "    </tr>\n",
       "  </thead>\n",
       "  <tbody>\n",
       "    <tr>\n",
       "      <th>0</th>\n",
       "      <td>2020-12-09</td>\n",
       "      <td>5</td>\n",
       "      <td>225</td>\n",
       "      <td>['cristy', 'amaze', 'spoke', 'cristy', 'brilli...</td>\n",
       "      <td>cristy amaze spoke cristy brilliant although c...</td>\n",
       "      <td>0.536111</td>\n",
       "    </tr>\n",
       "    <tr>\n",
       "      <th>1</th>\n",
       "      <td>2020-12-09</td>\n",
       "      <td>1</td>\n",
       "      <td>1694</td>\n",
       "      <td>['unhappy', 'place', 'end', 'november', 'black...</td>\n",
       "      <td>unhappy place end november black friday discou...</td>\n",
       "      <td>-0.201667</td>\n",
       "    </tr>\n",
       "    <tr>\n",
       "      <th>2</th>\n",
       "      <td>2020-12-09</td>\n",
       "      <td>2</td>\n",
       "      <td>145</td>\n",
       "      <td>['still', 'wait', 'place', 'rd', 'december', '...</td>\n",
       "      <td>still wait place rd december still wait suppos...</td>\n",
       "      <td>-0.300000</td>\n",
       "    </tr>\n",
       "    <tr>\n",
       "      <th>3</th>\n",
       "      <td>2020-12-09</td>\n",
       "      <td>5</td>\n",
       "      <td>94</td>\n",
       "      <td>['great', 'sale', 'support', 'great', 'sale', ...</td>\n",
       "      <td>great sale support great sale support thank</td>\n",
       "      <td>0.800000</td>\n",
       "    </tr>\n",
       "    <tr>\n",
       "      <th>4</th>\n",
       "      <td>2020-12-09</td>\n",
       "      <td>5</td>\n",
       "      <td>139</td>\n",
       "      <td>['michael', 'polite', 'helpful', 'michael', 'p...</td>\n",
       "      <td>michael polite helpful michael polite helpful ...</td>\n",
       "      <td>0.200000</td>\n",
       "    </tr>\n",
       "  </tbody>\n",
       "</table>\n",
       "</div>"
      ],
      "text/plain": [
       "         date  stars  length  \\\n",
       "0  2020-12-09      5     225   \n",
       "1  2020-12-09      1    1694   \n",
       "2  2020-12-09      2     145   \n",
       "3  2020-12-09      5      94   \n",
       "4  2020-12-09      5     139   \n",
       "\n",
       "                                          lemmatized  \\\n",
       "0  ['cristy', 'amaze', 'spoke', 'cristy', 'brilli...   \n",
       "1  ['unhappy', 'place', 'end', 'november', 'black...   \n",
       "2  ['still', 'wait', 'place', 'rd', 'december', '...   \n",
       "3  ['great', 'sale', 'support', 'great', 'sale', ...   \n",
       "4  ['michael', 'polite', 'helpful', 'michael', 'p...   \n",
       "\n",
       "                                              joined  polarity  \n",
       "0  cristy amaze spoke cristy brilliant although c...  0.536111  \n",
       "1  unhappy place end november black friday discou... -0.201667  \n",
       "2  still wait place rd december still wait suppos... -0.300000  \n",
       "3        great sale support great sale support thank  0.800000  \n",
       "4  michael polite helpful michael polite helpful ...  0.200000  "
      ]
     },
     "execution_count": 94,
     "metadata": {},
     "output_type": "execute_result"
    }
   ],
   "source": [
    "df.head()"
   ]
  },
  {
   "cell_type": "code",
   "execution_count": 95,
   "metadata": {},
   "outputs": [
    {
     "data": {
      "text/plain": [
       "date           object\n",
       "stars           int64\n",
       "length          int64\n",
       "lemmatized     object\n",
       "joined         object\n",
       "polarity      float64\n",
       "dtype: object"
      ]
     },
     "execution_count": 95,
     "metadata": {},
     "output_type": "execute_result"
    }
   ],
   "source": [
    "df.dtypes"
   ]
  },
  {
   "cell_type": "code",
   "execution_count": 96,
   "metadata": {},
   "outputs": [],
   "source": [
    "# Converting date to datetime\n",
    "\n",
    "df['date'] = pd.to_datetime(df['date'], errors = 'coerce')"
   ]
  },
  {
   "cell_type": "code",
   "execution_count": 97,
   "metadata": {},
   "outputs": [
    {
     "data": {
      "text/plain": [
       "date          datetime64[ns]\n",
       "stars                  int64\n",
       "length                 int64\n",
       "lemmatized            object\n",
       "joined                object\n",
       "polarity             float64\n",
       "dtype: object"
      ]
     },
     "execution_count": 97,
     "metadata": {},
     "output_type": "execute_result"
    }
   ],
   "source": [
    "df.dtypes"
   ]
  },
  {
   "cell_type": "code",
   "execution_count": 112,
   "metadata": {},
   "outputs": [],
   "source": [
    "# Creating dataframe with reviews from June since we found in Tableau that this month had the lowest \n",
    "# average polarity and we want explore what words that were commonly mentioned in this month\n",
    "\n",
    "june_df = df[(df['date'] > '2020-06-01') & (df['date'] < '2020-06-30')]"
   ]
  },
  {
   "cell_type": "code",
   "execution_count": 103,
   "metadata": {},
   "outputs": [
    {
     "data": {
      "text/html": [
       "<div>\n",
       "<style scoped>\n",
       "    .dataframe tbody tr th:only-of-type {\n",
       "        vertical-align: middle;\n",
       "    }\n",
       "\n",
       "    .dataframe tbody tr th {\n",
       "        vertical-align: top;\n",
       "    }\n",
       "\n",
       "    .dataframe thead th {\n",
       "        text-align: right;\n",
       "    }\n",
       "</style>\n",
       "<table border=\"1\" class=\"dataframe\">\n",
       "  <thead>\n",
       "    <tr style=\"text-align: right;\">\n",
       "      <th></th>\n",
       "      <th>date</th>\n",
       "      <th>stars</th>\n",
       "      <th>length</th>\n",
       "      <th>lemmatized</th>\n",
       "      <th>joined</th>\n",
       "      <th>polarity</th>\n",
       "    </tr>\n",
       "  </thead>\n",
       "  <tbody>\n",
       "    <tr>\n",
       "      <th>0</th>\n",
       "      <td>2020-06-29</td>\n",
       "      <td>5</td>\n",
       "      <td>355</td>\n",
       "      <td>['love', 'great', 'operate', 'like', 'well', '...</td>\n",
       "      <td>love great operate like well oil machine even ...</td>\n",
       "      <td>0.327083</td>\n",
       "    </tr>\n",
       "    <tr>\n",
       "      <th>1</th>\n",
       "      <td>2020-06-29</td>\n",
       "      <td>1</td>\n",
       "      <td>574</td>\n",
       "      <td>['take', 'week', 'ship', 'take', 'week', 'ship...</td>\n",
       "      <td>take week ship take week ship order express sh...</td>\n",
       "      <td>-0.075000</td>\n",
       "    </tr>\n",
       "    <tr>\n",
       "      <th>2</th>\n",
       "      <td>2020-06-29</td>\n",
       "      <td>1</td>\n",
       "      <td>583</td>\n",
       "      <td>['illegal', 'order', 'jacket', 'thought', 'min...</td>\n",
       "      <td>illegal order jacket thought mind always retur...</td>\n",
       "      <td>0.087500</td>\n",
       "    </tr>\n",
       "    <tr>\n",
       "      <th>3</th>\n",
       "      <td>2020-06-29</td>\n",
       "      <td>1</td>\n",
       "      <td>638</td>\n",
       "      <td>['chaos', 'spend', 's', 'company', 'recent', '...</td>\n",
       "      <td>chaos spend s company recent sent unsolicited ...</td>\n",
       "      <td>-0.072727</td>\n",
       "    </tr>\n",
       "    <tr>\n",
       "      <th>4</th>\n",
       "      <td>2020-06-29</td>\n",
       "      <td>1</td>\n",
       "      <td>262</td>\n",
       "      <td>['address', 'problem', 'address', 'problem', '...</td>\n",
       "      <td>address problem address problem worst ever exp...</td>\n",
       "      <td>-0.400000</td>\n",
       "    </tr>\n",
       "  </tbody>\n",
       "</table>\n",
       "</div>"
      ],
      "text/plain": [
       "        date  stars  length  \\\n",
       "0 2020-06-29      5     355   \n",
       "1 2020-06-29      1     574   \n",
       "2 2020-06-29      1     583   \n",
       "3 2020-06-29      1     638   \n",
       "4 2020-06-29      1     262   \n",
       "\n",
       "                                          lemmatized  \\\n",
       "0  ['love', 'great', 'operate', 'like', 'well', '...   \n",
       "1  ['take', 'week', 'ship', 'take', 'week', 'ship...   \n",
       "2  ['illegal', 'order', 'jacket', 'thought', 'min...   \n",
       "3  ['chaos', 'spend', 's', 'company', 'recent', '...   \n",
       "4  ['address', 'problem', 'address', 'problem', '...   \n",
       "\n",
       "                                              joined  polarity  \n",
       "0  love great operate like well oil machine even ...  0.327083  \n",
       "1  take week ship take week ship order express sh... -0.075000  \n",
       "2  illegal order jacket thought mind always retur...  0.087500  \n",
       "3  chaos spend s company recent sent unsolicited ... -0.072727  \n",
       "4  address problem address problem worst ever exp... -0.400000  "
      ]
     },
     "execution_count": 103,
     "metadata": {},
     "output_type": "execute_result"
    }
   ],
   "source": [
    "june_df = june_df.reset_index(drop = True)\n",
    "june_df.head()"
   ]
  },
  {
   "cell_type": "code",
   "execution_count": 104,
   "metadata": {},
   "outputs": [
    {
     "data": {
      "text/plain": [
       "date          0\n",
       "stars         0\n",
       "length        0\n",
       "lemmatized    0\n",
       "joined        1\n",
       "polarity      0\n",
       "dtype: int64"
      ]
     },
     "execution_count": 104,
     "metadata": {},
     "output_type": "execute_result"
    }
   ],
   "source": [
    "june_df.isnull().sum()"
   ]
  },
  {
   "cell_type": "code",
   "execution_count": 105,
   "metadata": {},
   "outputs": [],
   "source": [
    "june_df = june_df.dropna(subset = ['joined'])"
   ]
  },
  {
   "cell_type": "code",
   "execution_count": 106,
   "metadata": {},
   "outputs": [],
   "source": [
    "june_words = ' '.join(review for review in june_df['joined'])"
   ]
  },
  {
   "cell_type": "code",
   "execution_count": 110,
   "metadata": {},
   "outputs": [
    {
     "data": {
      "image/png": "[encoded data removed]",
      "text/plain": [
       "<Figure size 1080x360 with 1 Axes>"
      ]
     },
     "metadata": {
      "needs_background": "light"
     },
     "output_type": "display_data"
    }
   ],
   "source": [
    "# Generate wordcloud\n",
    "\n",
    "wordcloud = WordCloud(width = 1600, height = 800, random_state = 1, \n",
    "                      background_color = 'white', colormap = 'Oranges', collocations = False, \n",
    "                      min_font_size = 40, max_words = 100).generate(june_words)\n",
    "\n",
    "# Display the image \n",
    "plt.figure( figsize=(15,5))\n",
    "plt.imshow(wordcloud, interpolation = 'bilinear')\n",
    "plt.axis(\"off\")\n",
    "plt.show()"
   ]
  },
  {
   "cell_type": "code",
   "execution_count": null,
   "metadata": {},
   "outputs": [],
   "source": []
  }
 ],
 "metadata": {
  "kernelspec": {
   "display_name": "Python 3",
   "language": "python",
   "name": "python3"
  },
  "language_info": {
   "codemirror_mode": {
    "name": "ipython",
    "version": 3
   },
   "file_extension": ".py",
   "mimetype": "text/x-python",
   "name": "python",
   "nbconvert_exporter": "python",
   "pygments_lexer": "ipython3",
   "version": "3.7.6"
  }
 },
 "nbformat": 4,
 "nbformat_minor": 4
}
