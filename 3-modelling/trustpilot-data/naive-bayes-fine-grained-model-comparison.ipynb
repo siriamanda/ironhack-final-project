{
 "cells": [
  {
   "cell_type": "code",
   "execution_count": 2,
   "metadata": {},
   "outputs": [],
   "source": [
    "import pandas as pd\n",
    "import numpy as np\n",
    "\n",
    "import seaborn as sns\n",
    "import plotly.express as px\n",
    "from matplotlib import pyplot as plt \n",
    "%matplotlib inline\n",
    "\n",
    "import math\n",
    "from scipy import stats\n",
    "\n",
    "from textblob import TextBlob\n",
    "\n",
    "import warnings\n",
    "warnings.filterwarnings('ignore') \n",
    "\n",
    "from sklearn.pipeline import Pipeline\n",
    "from sklearn.naive_bayes import MultinomialNB\n",
    "from sklearn.linear_model import LogisticRegression\n",
    "from sklearn.tree import DecisionTreeClassifier\n",
    "from sklearn.ensemble import RandomForestClassifier\n",
    "from sklearn import svm\n",
    "from sklearn.feature_extraction.text import CountVectorizer, TfidfTransformer\n",
    "from sklearn.model_selection import train_test_split, GridSearchCV\n",
    "from sklearn.metrics import plot_confusion_matrix, classification_report, accuracy_score\n",
    "\n",
    "from sklearn.metrics import confusion_matrix\n"
   ]
  },
  {
   "cell_type": "code",
   "execution_count": 3,
   "metadata": {},
   "outputs": [],
   "source": [
    "asos_df = pd.read_csv('asos_reviews_clean_date.csv')"
   ]
  },
  {
   "cell_type": "code",
   "execution_count": 4,
   "metadata": {},
   "outputs": [],
   "source": [
    "plt_df = pd.read_csv('plt_reviews_clean_date.csv')"
   ]
  },
  {
   "cell_type": "code",
   "execution_count": 5,
   "metadata": {},
   "outputs": [],
   "source": [
    "zahul_df = pd.read_csv('zaful_reviews_clean_date.csv')"
   ]
  },
  {
   "cell_type": "code",
   "execution_count": 6,
   "metadata": {},
   "outputs": [],
   "source": [
    "reviews_df = pd.concat([asos_df, plt_df, zahul_df], axis = 0)"
   ]
  },
  {
   "cell_type": "code",
   "execution_count": 7,
   "metadata": {},
   "outputs": [
    {
     "data": {
      "text/html": [
       "<div>\n",
       "<style scoped>\n",
       "    .dataframe tbody tr th:only-of-type {\n",
       "        vertical-align: middle;\n",
       "    }\n",
       "\n",
       "    .dataframe tbody tr th {\n",
       "        vertical-align: top;\n",
       "    }\n",
       "\n",
       "    .dataframe thead th {\n",
       "        text-align: right;\n",
       "    }\n",
       "</style>\n",
       "<table border=\"1\" class=\"dataframe\">\n",
       "  <thead>\n",
       "    <tr style=\"text-align: right;\">\n",
       "      <th></th>\n",
       "      <th>Unnamed: 0</th>\n",
       "      <th>date</th>\n",
       "      <th>review</th>\n",
       "      <th>stars</th>\n",
       "      <th>length</th>\n",
       "      <th>polarity_before_clean</th>\n",
       "      <th>lower</th>\n",
       "      <th>no_punc</th>\n",
       "      <th>no_stop</th>\n",
       "      <th>no_num</th>\n",
       "      <th>words_removed</th>\n",
       "      <th>token</th>\n",
       "      <th>pos_tags</th>\n",
       "      <th>lemmatized</th>\n",
       "      <th>joined</th>\n",
       "      <th>polarity_after_clean</th>\n",
       "    </tr>\n",
       "  </thead>\n",
       "  <tbody>\n",
       "    <tr>\n",
       "      <th>0</th>\n",
       "      <td>0</td>\n",
       "      <td>2020-12-09</td>\n",
       "      <td>Cristy was amazing                            ...</td>\n",
       "      <td>5</td>\n",
       "      <td>225</td>\n",
       "      <td>0.580208</td>\n",
       "      <td>cristy was amazing i spoke with cristy and she...</td>\n",
       "      <td>cristy was amazing i spoke with cristy and she...</td>\n",
       "      <td>cristy amazing spoke cristy brilliant although...</td>\n",
       "      <td>cristy amazing spoke cristy brilliant although...</td>\n",
       "      <td>cristy amazing spoke cristy brilliant although...</td>\n",
       "      <td>['cristy', 'amazing', 'spoke', 'cristy', 'bril...</td>\n",
       "      <td>[('cristy', 'JJ'), ('amazing', 'VBG'), ('spoke...</td>\n",
       "      <td>['cristy', 'amaze', 'spoke', 'cristy', 'brilli...</td>\n",
       "      <td>cristy amaze spoke cristy brilliant although c...</td>\n",
       "      <td>0.536111</td>\n",
       "    </tr>\n",
       "    <tr>\n",
       "      <th>1</th>\n",
       "      <td>1</td>\n",
       "      <td>2020-12-09</td>\n",
       "      <td>Unhappy customer                              ...</td>\n",
       "      <td>1</td>\n",
       "      <td>1694</td>\n",
       "      <td>-0.061012</td>\n",
       "      <td>unhappy customer i placed an order at the end ...</td>\n",
       "      <td>unhappy customer i placed an order at the end ...</td>\n",
       "      <td>unhappy customer placed order end november bla...</td>\n",
       "      <td>unhappy customer placed order end november bla...</td>\n",
       "      <td>unhappy placed end november black friday disco...</td>\n",
       "      <td>['unhappy', 'placed', 'end', 'november', 'blac...</td>\n",
       "      <td>[('unhappy', 'JJ'), ('placed', 'VBD'), ('end',...</td>\n",
       "      <td>['unhappy', 'place', 'end', 'november', 'black...</td>\n",
       "      <td>unhappy place end november black friday discou...</td>\n",
       "      <td>-0.201667</td>\n",
       "    </tr>\n",
       "    <tr>\n",
       "      <th>2</th>\n",
       "      <td>2</td>\n",
       "      <td>2020-12-09</td>\n",
       "      <td>Still Waiting                                P...</td>\n",
       "      <td>2</td>\n",
       "      <td>145</td>\n",
       "      <td>-0.195000</td>\n",
       "      <td>still waiting placed an order 3rd december and...</td>\n",
       "      <td>still waiting placed an order 3rd december and...</td>\n",
       "      <td>still waiting placed order 3rd december still ...</td>\n",
       "      <td>still waiting placed order rd december still w...</td>\n",
       "      <td>still waiting placed rd december still waiting...</td>\n",
       "      <td>['still', 'waiting', 'placed', 'rd', 'december...</td>\n",
       "      <td>[('still', 'RB'), ('waiting', 'VBG'), ('placed...</td>\n",
       "      <td>['still', 'wait', 'place', 'rd', 'december', '...</td>\n",
       "      <td>still wait place rd december still wait suppos...</td>\n",
       "      <td>-0.300000</td>\n",
       "    </tr>\n",
       "    <tr>\n",
       "      <th>3</th>\n",
       "      <td>3</td>\n",
       "      <td>2020-12-09</td>\n",
       "      <td>Great after sales support                     ...</td>\n",
       "      <td>5</td>\n",
       "      <td>94</td>\n",
       "      <td>0.900000</td>\n",
       "      <td>great after sales support great after sales su...</td>\n",
       "      <td>great after sales support great after sales su...</td>\n",
       "      <td>great sales support great sales support thank</td>\n",
       "      <td>great sales support great sales support thank</td>\n",
       "      <td>great sales support great sales support thank</td>\n",
       "      <td>['great', 'sales', 'support', 'great', 'sales'...</td>\n",
       "      <td>[('great', 'JJ'), ('sales', 'NNS'), ('support'...</td>\n",
       "      <td>['great', 'sale', 'support', 'great', 'sale', ...</td>\n",
       "      <td>great sale support great sale support thank</td>\n",
       "      <td>0.800000</td>\n",
       "    </tr>\n",
       "    <tr>\n",
       "      <th>4</th>\n",
       "      <td>4</td>\n",
       "      <td>2020-12-09</td>\n",
       "      <td>Michael was very polite and helpful…          ...</td>\n",
       "      <td>5</td>\n",
       "      <td>139</td>\n",
       "      <td>0.200000</td>\n",
       "      <td>michael was very polite and helpful… michael w...</td>\n",
       "      <td>michael was very polite and helpful michael wa...</td>\n",
       "      <td>michael polite helpful michael polite helpful ...</td>\n",
       "      <td>michael polite helpful michael polite helpful ...</td>\n",
       "      <td>michael polite helpful michael polite helpful ...</td>\n",
       "      <td>['michael', 'polite', 'helpful', 'michael', 'p...</td>\n",
       "      <td>[('michael', 'NN'), ('polite', 'VBP'), ('helpf...</td>\n",
       "      <td>['michael', 'polite', 'helpful', 'michael', 'p...</td>\n",
       "      <td>michael polite helpful michael polite helpful ...</td>\n",
       "      <td>0.200000</td>\n",
       "    </tr>\n",
       "    <tr>\n",
       "      <th>...</th>\n",
       "      <td>...</td>\n",
       "      <td>...</td>\n",
       "      <td>...</td>\n",
       "      <td>...</td>\n",
       "      <td>...</td>\n",
       "      <td>...</td>\n",
       "      <td>...</td>\n",
       "      <td>...</td>\n",
       "      <td>...</td>\n",
       "      <td>...</td>\n",
       "      <td>...</td>\n",
       "      <td>...</td>\n",
       "      <td>...</td>\n",
       "      <td>...</td>\n",
       "      <td>...</td>\n",
       "      <td>...</td>\n",
       "    </tr>\n",
       "    <tr>\n",
       "      <th>8594</th>\n",
       "      <td>8594</td>\n",
       "      <td>2015-06-01</td>\n",
       "      <td>Terrible Company                              ...</td>\n",
       "      <td>1</td>\n",
       "      <td>416</td>\n",
       "      <td>-0.175000</td>\n",
       "      <td>terrible company it has been 18 days since the...</td>\n",
       "      <td>terrible company it has been 18 days since the...</td>\n",
       "      <td>terrible company 18 days since order placed pa...</td>\n",
       "      <td>terrible company  days since order placed paid...</td>\n",
       "      <td>terrible company days since placed paid compla...</td>\n",
       "      <td>['terrible', 'company', 'days', 'since', 'plac...</td>\n",
       "      <td>[('terrible', 'JJ'), ('company', 'NN'), ('days...</td>\n",
       "      <td>['terrible', 'company', 'day', 'since', 'place...</td>\n",
       "      <td>terrible company day since place paid complain...</td>\n",
       "      <td>-0.500000</td>\n",
       "    </tr>\n",
       "    <tr>\n",
       "      <th>8595</th>\n",
       "      <td>8595</td>\n",
       "      <td>2015-05-22</td>\n",
       "      <td>Horrible                                The cl...</td>\n",
       "      <td>1</td>\n",
       "      <td>418</td>\n",
       "      <td>-0.125000</td>\n",
       "      <td>horrible the clothes may look adorable but you...</td>\n",
       "      <td>horrible the clothes may look adorable but you...</td>\n",
       "      <td>horrible clothes may look adorable never get p...</td>\n",
       "      <td>horrible clothes may look adorable never get p...</td>\n",
       "      <td>horrible clothes may look adorable never get p...</td>\n",
       "      <td>['horrible', 'clothes', 'may', 'look', 'adorab...</td>\n",
       "      <td>[('horrible', 'JJ'), ('clothes', 'NNS'), ('may...</td>\n",
       "      <td>['horrible', 'clothes', 'may', 'look', 'adorab...</td>\n",
       "      <td>horrible clothes may look adorable never get p...</td>\n",
       "      <td>-0.125000</td>\n",
       "    </tr>\n",
       "    <tr>\n",
       "      <th>8596</th>\n",
       "      <td>8596</td>\n",
       "      <td>2015-05-14</td>\n",
       "      <td>Where is my order?                            ...</td>\n",
       "      <td>2</td>\n",
       "      <td>323</td>\n",
       "      <td>0.537500</td>\n",
       "      <td>where is my order? 20 days and counting. never...</td>\n",
       "      <td>where is my order 20 days and counting never o...</td>\n",
       "      <td>order 20 days counting never ordering got trac...</td>\n",
       "      <td>order  days counting never ordering got tracki...</td>\n",
       "      <td>days counting never ordering got tracking info...</td>\n",
       "      <td>['days', 'counting', 'never', 'ordering', 'got...</td>\n",
       "      <td>[('days', 'NNS'), ('counting', 'VBG'), ('never...</td>\n",
       "      <td>['day', 'count', 'never', 'order', 'get', 'tra...</td>\n",
       "      <td>day count never order get track information ei...</td>\n",
       "      <td>0.516667</td>\n",
       "    </tr>\n",
       "    <tr>\n",
       "      <th>8597</th>\n",
       "      <td>8597</td>\n",
       "      <td>2015-05-03</td>\n",
       "      <td>unhappy                                I still...</td>\n",
       "      <td>1</td>\n",
       "      <td>143</td>\n",
       "      <td>-0.690000</td>\n",
       "      <td>unhappy i still have not received my order eve...</td>\n",
       "      <td>unhappy i still have not received my order eve...</td>\n",
       "      <td>unhappy still received order even 41 days purc...</td>\n",
       "      <td>unhappy still received order even  days purcha...</td>\n",
       "      <td>unhappy still received even days purchase unhappy</td>\n",
       "      <td>['unhappy', 'still', 'received', 'even', 'days...</td>\n",
       "      <td>[('unhappy', 'JJ'), ('still', 'RB'), ('receive...</td>\n",
       "      <td>['unhappy', 'still', 'receive', 'even', 'day',...</td>\n",
       "      <td>unhappy still receive even day purchase unhappy</td>\n",
       "      <td>-0.600000</td>\n",
       "    </tr>\n",
       "    <tr>\n",
       "      <th>8598</th>\n",
       "      <td>8598</td>\n",
       "      <td>2020-12-09</td>\n",
       "      <td>Dreadful                                Dreadf...</td>\n",
       "      <td>1</td>\n",
       "      <td>710</td>\n",
       "      <td>-0.359524</td>\n",
       "      <td>dreadful dreadful! i also ordered on 27th nov ...</td>\n",
       "      <td>dreadful dreadful i also ordered on 27th nov a...</td>\n",
       "      <td>dreadful dreadful also ordered 27th nov still ...</td>\n",
       "      <td>dreadful dreadful also ordered th nov still si...</td>\n",
       "      <td>dreadful dreadful also th nov still sign packa...</td>\n",
       "      <td>['dreadful', 'dreadful', 'also', 'th', 'nov', ...</td>\n",
       "      <td>[('dreadful', 'JJ'), ('dreadful', 'NN'), ('als...</td>\n",
       "      <td>['dreadful', 'dreadful', 'also', 'th', 'nov', ...</td>\n",
       "      <td>dreadful dreadful also th nov still sign packa...</td>\n",
       "      <td>0.014815</td>\n",
       "    </tr>\n",
       "  </tbody>\n",
       "</table>\n",
       "<p>48556 rows × 16 columns</p>\n",
       "</div>"
      ],
      "text/plain": [
       "      Unnamed: 0        date  \\\n",
       "0              0  2020-12-09   \n",
       "1              1  2020-12-09   \n",
       "2              2  2020-12-09   \n",
       "3              3  2020-12-09   \n",
       "4              4  2020-12-09   \n",
       "...          ...         ...   \n",
       "8594        8594  2015-06-01   \n",
       "8595        8595  2015-05-22   \n",
       "8596        8596  2015-05-14   \n",
       "8597        8597  2015-05-03   \n",
       "8598        8598  2020-12-09   \n",
       "\n",
       "                                                 review  stars  length  \\\n",
       "0     Cristy was amazing                            ...      5     225   \n",
       "1     Unhappy customer                              ...      1    1694   \n",
       "2     Still Waiting                                P...      2     145   \n",
       "3     Great after sales support                     ...      5      94   \n",
       "4     Michael was very polite and helpful…          ...      5     139   \n",
       "...                                                 ...    ...     ...   \n",
       "8594  Terrible Company                              ...      1     416   \n",
       "8595  Horrible                                The cl...      1     418   \n",
       "8596  Where is my order?                            ...      2     323   \n",
       "8597  unhappy                                I still...      1     143   \n",
       "8598  Dreadful                                Dreadf...      1     710   \n",
       "\n",
       "      polarity_before_clean  \\\n",
       "0                  0.580208   \n",
       "1                 -0.061012   \n",
       "2                 -0.195000   \n",
       "3                  0.900000   \n",
       "4                  0.200000   \n",
       "...                     ...   \n",
       "8594              -0.175000   \n",
       "8595              -0.125000   \n",
       "8596               0.537500   \n",
       "8597              -0.690000   \n",
       "8598              -0.359524   \n",
       "\n",
       "                                                  lower  \\\n",
       "0     cristy was amazing i spoke with cristy and she...   \n",
       "1     unhappy customer i placed an order at the end ...   \n",
       "2     still waiting placed an order 3rd december and...   \n",
       "3     great after sales support great after sales su...   \n",
       "4     michael was very polite and helpful… michael w...   \n",
       "...                                                 ...   \n",
       "8594  terrible company it has been 18 days since the...   \n",
       "8595  horrible the clothes may look adorable but you...   \n",
       "8596  where is my order? 20 days and counting. never...   \n",
       "8597  unhappy i still have not received my order eve...   \n",
       "8598  dreadful dreadful! i also ordered on 27th nov ...   \n",
       "\n",
       "                                                no_punc  \\\n",
       "0     cristy was amazing i spoke with cristy and she...   \n",
       "1     unhappy customer i placed an order at the end ...   \n",
       "2     still waiting placed an order 3rd december and...   \n",
       "3     great after sales support great after sales su...   \n",
       "4     michael was very polite and helpful michael wa...   \n",
       "...                                                 ...   \n",
       "8594  terrible company it has been 18 days since the...   \n",
       "8595  horrible the clothes may look adorable but you...   \n",
       "8596  where is my order 20 days and counting never o...   \n",
       "8597  unhappy i still have not received my order eve...   \n",
       "8598  dreadful dreadful i also ordered on 27th nov a...   \n",
       "\n",
       "                                                no_stop  \\\n",
       "0     cristy amazing spoke cristy brilliant although...   \n",
       "1     unhappy customer placed order end november bla...   \n",
       "2     still waiting placed order 3rd december still ...   \n",
       "3         great sales support great sales support thank   \n",
       "4     michael polite helpful michael polite helpful ...   \n",
       "...                                                 ...   \n",
       "8594  terrible company 18 days since order placed pa...   \n",
       "8595  horrible clothes may look adorable never get p...   \n",
       "8596  order 20 days counting never ordering got trac...   \n",
       "8597  unhappy still received order even 41 days purc...   \n",
       "8598  dreadful dreadful also ordered 27th nov still ...   \n",
       "\n",
       "                                                 no_num  \\\n",
       "0     cristy amazing spoke cristy brilliant although...   \n",
       "1     unhappy customer placed order end november bla...   \n",
       "2     still waiting placed order rd december still w...   \n",
       "3         great sales support great sales support thank   \n",
       "4     michael polite helpful michael polite helpful ...   \n",
       "...                                                 ...   \n",
       "8594  terrible company  days since order placed paid...   \n",
       "8595  horrible clothes may look adorable never get p...   \n",
       "8596  order  days counting never ordering got tracki...   \n",
       "8597  unhappy still received order even  days purcha...   \n",
       "8598  dreadful dreadful also ordered th nov still si...   \n",
       "\n",
       "                                          words_removed  \\\n",
       "0     cristy amazing spoke cristy brilliant although...   \n",
       "1     unhappy placed end november black friday disco...   \n",
       "2     still waiting placed rd december still waiting...   \n",
       "3         great sales support great sales support thank   \n",
       "4     michael polite helpful michael polite helpful ...   \n",
       "...                                                 ...   \n",
       "8594  terrible company days since placed paid compla...   \n",
       "8595  horrible clothes may look adorable never get p...   \n",
       "8596  days counting never ordering got tracking info...   \n",
       "8597  unhappy still received even days purchase unhappy   \n",
       "8598  dreadful dreadful also th nov still sign packa...   \n",
       "\n",
       "                                                  token  \\\n",
       "0     ['cristy', 'amazing', 'spoke', 'cristy', 'bril...   \n",
       "1     ['unhappy', 'placed', 'end', 'november', 'blac...   \n",
       "2     ['still', 'waiting', 'placed', 'rd', 'december...   \n",
       "3     ['great', 'sales', 'support', 'great', 'sales'...   \n",
       "4     ['michael', 'polite', 'helpful', 'michael', 'p...   \n",
       "...                                                 ...   \n",
       "8594  ['terrible', 'company', 'days', 'since', 'plac...   \n",
       "8595  ['horrible', 'clothes', 'may', 'look', 'adorab...   \n",
       "8596  ['days', 'counting', 'never', 'ordering', 'got...   \n",
       "8597  ['unhappy', 'still', 'received', 'even', 'days...   \n",
       "8598  ['dreadful', 'dreadful', 'also', 'th', 'nov', ...   \n",
       "\n",
       "                                               pos_tags  \\\n",
       "0     [('cristy', 'JJ'), ('amazing', 'VBG'), ('spoke...   \n",
       "1     [('unhappy', 'JJ'), ('placed', 'VBD'), ('end',...   \n",
       "2     [('still', 'RB'), ('waiting', 'VBG'), ('placed...   \n",
       "3     [('great', 'JJ'), ('sales', 'NNS'), ('support'...   \n",
       "4     [('michael', 'NN'), ('polite', 'VBP'), ('helpf...   \n",
       "...                                                 ...   \n",
       "8594  [('terrible', 'JJ'), ('company', 'NN'), ('days...   \n",
       "8595  [('horrible', 'JJ'), ('clothes', 'NNS'), ('may...   \n",
       "8596  [('days', 'NNS'), ('counting', 'VBG'), ('never...   \n",
       "8597  [('unhappy', 'JJ'), ('still', 'RB'), ('receive...   \n",
       "8598  [('dreadful', 'JJ'), ('dreadful', 'NN'), ('als...   \n",
       "\n",
       "                                             lemmatized  \\\n",
       "0     ['cristy', 'amaze', 'spoke', 'cristy', 'brilli...   \n",
       "1     ['unhappy', 'place', 'end', 'november', 'black...   \n",
       "2     ['still', 'wait', 'place', 'rd', 'december', '...   \n",
       "3     ['great', 'sale', 'support', 'great', 'sale', ...   \n",
       "4     ['michael', 'polite', 'helpful', 'michael', 'p...   \n",
       "...                                                 ...   \n",
       "8594  ['terrible', 'company', 'day', 'since', 'place...   \n",
       "8595  ['horrible', 'clothes', 'may', 'look', 'adorab...   \n",
       "8596  ['day', 'count', 'never', 'order', 'get', 'tra...   \n",
       "8597  ['unhappy', 'still', 'receive', 'even', 'day',...   \n",
       "8598  ['dreadful', 'dreadful', 'also', 'th', 'nov', ...   \n",
       "\n",
       "                                                 joined  polarity_after_clean  \n",
       "0     cristy amaze spoke cristy brilliant although c...              0.536111  \n",
       "1     unhappy place end november black friday discou...             -0.201667  \n",
       "2     still wait place rd december still wait suppos...             -0.300000  \n",
       "3           great sale support great sale support thank              0.800000  \n",
       "4     michael polite helpful michael polite helpful ...              0.200000  \n",
       "...                                                 ...                   ...  \n",
       "8594  terrible company day since place paid complain...             -0.500000  \n",
       "8595  horrible clothes may look adorable never get p...             -0.125000  \n",
       "8596  day count never order get track information ei...              0.516667  \n",
       "8597    unhappy still receive even day purchase unhappy             -0.600000  \n",
       "8598  dreadful dreadful also th nov still sign packa...              0.014815  \n",
       "\n",
       "[48556 rows x 16 columns]"
      ]
     },
     "execution_count": 7,
     "metadata": {},
     "output_type": "execute_result"
    }
   ],
   "source": [
    "reviews_df"
   ]
  },
  {
   "cell_type": "code",
   "execution_count": 8,
   "metadata": {},
   "outputs": [],
   "source": [
    "reviews_df = reviews_df.drop(['Unnamed: 0'], axis = 1)"
   ]
  },
  {
   "cell_type": "code",
   "execution_count": 9,
   "metadata": {
    "scrolled": true
   },
   "outputs": [
    {
     "data": {
      "text/plain": [
       "(48556, 15)"
      ]
     },
     "execution_count": 9,
     "metadata": {},
     "output_type": "execute_result"
    }
   ],
   "source": [
    "reviews_df.shape"
   ]
  },
  {
   "cell_type": "code",
   "execution_count": 10,
   "metadata": {},
   "outputs": [
    {
     "data": {
      "text/plain": [
       "Very helpful                  102\n",
       "Great service                  33\n",
       "very helpful                   28\n",
       "Great customer service         26\n",
       "Very helpful!                  17\n",
       "Excellent customer service     15\n",
       "Great customer service!        15\n",
       "Really helpful                 12\n",
       "Good service                   12\n",
       "Excellent service              11\n",
       "Name: review, dtype: int64"
      ]
     },
     "execution_count": 10,
     "metadata": {},
     "output_type": "execute_result"
    }
   ],
   "source": [
    "reviews_df['review'].value_counts().head(10)"
   ]
  },
  {
   "cell_type": "code",
   "execution_count": 11,
   "metadata": {},
   "outputs": [],
   "source": [
    "# I remove the duplicate reviews since the dataset is large enough\n",
    "\n",
    "reviews_df = reviews_df.drop_duplicates(subset = 'review', keep = 'first')"
   ]
  },
  {
   "cell_type": "code",
   "execution_count": 12,
   "metadata": {},
   "outputs": [
    {
     "data": {
      "text/plain": [
       "5    33929\n",
       "1     8161\n",
       "4     3850\n",
       "2     1101\n",
       "3      932\n",
       "Name: stars, dtype: int64"
      ]
     },
     "execution_count": 12,
     "metadata": {},
     "output_type": "execute_result"
    }
   ],
   "source": [
    "reviews_df['stars'].value_counts()"
   ]
  },
  {
   "cell_type": "code",
   "execution_count": 13,
   "metadata": {},
   "outputs": [],
   "source": [
    "analysis_df = reviews_df[['stars', 'lemmatized', 'date', 'length', 'polarity_after_clean']]"
   ]
  },
  {
   "cell_type": "code",
   "execution_count": 14,
   "metadata": {},
   "outputs": [
    {
     "data": {
      "text/plain": [
       "0       5\n",
       "1       1\n",
       "2       2\n",
       "3       5\n",
       "4       5\n",
       "       ..\n",
       "8594    1\n",
       "8595    1\n",
       "8596    2\n",
       "8597    1\n",
       "8598    1\n",
       "Name: stars, Length: 47973, dtype: int64"
      ]
     },
     "execution_count": 14,
     "metadata": {},
     "output_type": "execute_result"
    }
   ],
   "source": [
    "analysis_df['stars']"
   ]
  },
  {
   "cell_type": "code",
   "execution_count": 15,
   "metadata": {},
   "outputs": [
    {
     "data": {
      "text/plain": [
       "5    33929\n",
       "1     8161\n",
       "4     3850\n",
       "2     1101\n",
       "3      932\n",
       "Name: stars, dtype: int64"
      ]
     },
     "execution_count": 15,
     "metadata": {},
     "output_type": "execute_result"
    }
   ],
   "source": [
    "analysis_df['stars'].value_counts()"
   ]
  },
  {
   "cell_type": "code",
   "execution_count": 16,
   "metadata": {},
   "outputs": [
    {
     "data": {
      "image/png": "[encoded data removed]",
      "text/plain": [
       "<Figure size 720x504 with 1 Axes>"
      ]
     },
     "metadata": {},
     "output_type": "display_data"
    }
   ],
   "source": [
    "plt.figure(figsize =(10, 7)) \n",
    "plt.pie([33929, 3850, 932, 1101, 8161], labels = ['5 stars', '4 stars', '3 stars', '2 stars', '1 star'], autopct='%1.1f%%');\n",
    "plt.axis('equal')\n",
    "plt.show()"
   ]
  },
  {
   "cell_type": "code",
   "execution_count": 17,
   "metadata": {},
   "outputs": [],
   "source": [
    "# Create smaller random samples from each rating to crate a balanced sample\n",
    "\n",
    "sample_5 = analysis_df[analysis_df['stars']==5].sample(1000)\n",
    "sample_4 = analysis_df[analysis_df['stars']==4].sample(1000)\n",
    "sample_3 = analysis_df[analysis_df['stars']==3]\n",
    "sample_2 = analysis_df[analysis_df['stars']==2].sample(1000)\n",
    "sample_1 = analysis_df[analysis_df['stars']==1].sample(1000)\n"
   ]
  },
  {
   "cell_type": "code",
   "execution_count": 18,
   "metadata": {},
   "outputs": [],
   "source": [
    "# Checking so that the samples are representative"
   ]
  },
  {
   "cell_type": "code",
   "execution_count": 19,
   "metadata": {},
   "outputs": [
    {
     "data": {
      "text/plain": [
       "count    33929.000000\n",
       "mean         0.371516\n",
       "std          0.251206\n",
       "min         -1.000000\n",
       "25%          0.200000\n",
       "50%          0.354167\n",
       "75%          0.526667\n",
       "max          1.000000\n",
       "Name: polarity_after_clean, dtype: float64"
      ]
     },
     "execution_count": 19,
     "metadata": {},
     "output_type": "execute_result"
    }
   ],
   "source": [
    "analysis_df[analysis_df['stars']==5]['polarity_after_clean'].describe()"
   ]
  },
  {
   "cell_type": "code",
   "execution_count": 20,
   "metadata": {},
   "outputs": [
    {
     "data": {
      "text/plain": [
       "count    1000.000000\n",
       "mean        0.366402\n",
       "std         0.257450\n",
       "min        -0.600000\n",
       "25%         0.200000\n",
       "50%         0.351111\n",
       "75%         0.517500\n",
       "max         1.000000\n",
       "Name: polarity_after_clean, dtype: float64"
      ]
     },
     "execution_count": 20,
     "metadata": {},
     "output_type": "execute_result"
    }
   ],
   "source": [
    "sample_5['polarity_after_clean'].describe()"
   ]
  },
  {
   "cell_type": "markdown",
   "metadata": {},
   "source": [
    "We calculate the Z-statistic to check that the random samples are representative of the larger sample\n",
    "\n",
    "H0: The random sample mean is the same as the mean of the full sample\n",
    "\n",
    "HA: The means are not the same\n",
    "\n",
    "If -1.98 < Z < 1.98 we do not reject the null hypothesis at 95% level of confidence and we can assume that the smaller samples are representative of the full sample.\n"
   ]
  },
  {
   "cell_type": "code",
   "execution_count": 21,
   "metadata": {},
   "outputs": [
    {
     "name": "stdout",
     "output_type": "stream",
     "text": [
      "The Z statistic is:  0.34945354747209156\n"
     ]
    }
   ],
   "source": [
    "n_5 = 1000\n",
    "pop_mean_5 = 0.371516\n",
    "sample_mean_5 = 0.374292\n",
    "pop_std_5 = 0.251206\n",
    "\n",
    "statistic_5 = (sample_mean_5 - pop_mean_5) / (pop_std_5 / math.sqrt(n_5))\n",
    "print('The Z statistic is: ', statistic_5)"
   ]
  },
  {
   "cell_type": "code",
   "execution_count": 22,
   "metadata": {},
   "outputs": [
    {
     "data": {
      "text/plain": [
       "count    3850.000000\n",
       "mean        0.298890\n",
       "std         0.226388\n",
       "min        -1.000000\n",
       "25%         0.160000\n",
       "50%         0.300000\n",
       "75%         0.438889\n",
       "max         1.000000\n",
       "Name: polarity_after_clean, dtype: float64"
      ]
     },
     "execution_count": 22,
     "metadata": {},
     "output_type": "execute_result"
    }
   ],
   "source": [
    "analysis_df[analysis_df['stars']==4]['polarity_after_clean'].describe()"
   ]
  },
  {
   "cell_type": "code",
   "execution_count": 23,
   "metadata": {},
   "outputs": [
    {
     "data": {
      "text/plain": [
       "count    1000.000000\n",
       "mean        0.289029\n",
       "std         0.225870\n",
       "min        -0.750000\n",
       "25%         0.153854\n",
       "50%         0.290238\n",
       "75%         0.421429\n",
       "max         1.000000\n",
       "Name: polarity_after_clean, dtype: float64"
      ]
     },
     "execution_count": 23,
     "metadata": {},
     "output_type": "execute_result"
    }
   ],
   "source": [
    "sample_4['polarity_after_clean'].describe()"
   ]
  },
  {
   "cell_type": "code",
   "execution_count": 24,
   "metadata": {
    "scrolled": true
   },
   "outputs": [
    {
     "name": "stdout",
     "output_type": "stream",
     "text": [
      "The Z statistic is:  1.1047605886474419\n"
     ]
    }
   ],
   "source": [
    "n_4 = 1000\n",
    "pop_mean_4 = 0.298890\n",
    "sample_mean_4 = 0.306799\n",
    "pop_std_4 = 0.226388\n",
    "\n",
    "statistic_4 = (sample_mean_4 - pop_mean_4) / (pop_std_4 / math.sqrt(n_4))\n",
    "print('The Z statistic is: ', statistic_4)"
   ]
  },
  {
   "cell_type": "code",
   "execution_count": 25,
   "metadata": {},
   "outputs": [
    {
     "data": {
      "text/plain": [
       "count    1101.000000\n",
       "mean        0.013041\n",
       "std         0.222674\n",
       "min        -1.000000\n",
       "25%        -0.090476\n",
       "50%         0.000000\n",
       "75%         0.125000\n",
       "max         1.000000\n",
       "Name: polarity_after_clean, dtype: float64"
      ]
     },
     "execution_count": 25,
     "metadata": {},
     "output_type": "execute_result"
    }
   ],
   "source": [
    "analysis_df[analysis_df['stars']==2]['polarity_after_clean'].describe()"
   ]
  },
  {
   "cell_type": "code",
   "execution_count": 26,
   "metadata": {},
   "outputs": [
    {
     "data": {
      "text/plain": [
       "count    1000.000000\n",
       "mean        0.013278\n",
       "std         0.220231\n",
       "min        -1.000000\n",
       "25%        -0.092857\n",
       "50%         0.000000\n",
       "75%         0.125000\n",
       "max         1.000000\n",
       "Name: polarity_after_clean, dtype: float64"
      ]
     },
     "execution_count": 26,
     "metadata": {},
     "output_type": "execute_result"
    }
   ],
   "source": [
    "sample_2['polarity_after_clean'].describe()"
   ]
  },
  {
   "cell_type": "code",
   "execution_count": 27,
   "metadata": {},
   "outputs": [
    {
     "name": "stdout",
     "output_type": "stream",
     "text": [
      "The Z statistic is:  0.6572397770399444\n"
     ]
    }
   ],
   "source": [
    "n_2 = 1000\n",
    "pop_mean_2 = 0.013041\n",
    "sample_mean_2 = 0.017669\n",
    "pop_std_2 = 0.222674\n",
    "\n",
    "statistic_2 = (sample_mean_2 - pop_mean_2) / (pop_std_2 / math.sqrt(n_2))\n",
    "print('The Z statistic is: ', statistic_2)"
   ]
  },
  {
   "cell_type": "code",
   "execution_count": 28,
   "metadata": {},
   "outputs": [
    {
     "data": {
      "text/plain": [
       "count    8161.000000\n",
       "mean       -0.107879\n",
       "std         0.271774\n",
       "min        -1.000000\n",
       "25%        -0.233523\n",
       "50%        -0.054630\n",
       "75%         0.043290\n",
       "max         1.000000\n",
       "Name: polarity_after_clean, dtype: float64"
      ]
     },
     "execution_count": 28,
     "metadata": {},
     "output_type": "execute_result"
    }
   ],
   "source": [
    "analysis_df[analysis_df['stars']==1]['polarity_after_clean'].describe()"
   ]
  },
  {
   "cell_type": "code",
   "execution_count": 29,
   "metadata": {},
   "outputs": [
    {
     "data": {
      "text/plain": [
       "count    1000.000000\n",
       "mean       -0.122669\n",
       "std         0.291763\n",
       "min        -1.000000\n",
       "25%        -0.257396\n",
       "50%        -0.051792\n",
       "75%         0.035179\n",
       "max         1.000000\n",
       "Name: polarity_after_clean, dtype: float64"
      ]
     },
     "execution_count": 29,
     "metadata": {},
     "output_type": "execute_result"
    }
   ],
   "source": [
    "sample_1['polarity_after_clean'].describe()"
   ]
  },
  {
   "cell_type": "code",
   "execution_count": 30,
   "metadata": {},
   "outputs": [
    {
     "name": "stdout",
     "output_type": "stream",
     "text": [
      "The Z statistic is:  -0.6298398292144002\n"
     ]
    }
   ],
   "source": [
    "n_1 = 1000\n",
    "pop_mean_1 = -0.107879\n",
    "sample_mean_1 = -0.113292\n",
    "pop_std_1 = 0.271774\n",
    "\n",
    "statistic_1 = (sample_mean_1 - pop_mean_1) / (pop_std_1 / math.sqrt(n_1))\n",
    "print('The Z statistic is: ', statistic_1)"
   ]
  },
  {
   "cell_type": "code",
   "execution_count": 57,
   "metadata": {},
   "outputs": [],
   "source": [
    "new_df = pd.concat([sample_5, sample_4, sample_3, sample_2, sample_1])"
   ]
  },
  {
   "cell_type": "code",
   "execution_count": 58,
   "metadata": {},
   "outputs": [],
   "source": [
    "X = new_df['lemmatized']\n",
    "y = new_df['stars']\n",
    "\n",
    "X_train, X_test, y_train, y_test = train_test_split(X, y, test_size = 0.2, random_state = 0)"
   ]
  },
  {
   "cell_type": "code",
   "execution_count": 59,
   "metadata": {},
   "outputs": [
    {
     "data": {
      "text/plain": [
       "1430     ['unclear', 'policy', 'poor', 'communication',...\n",
       "4033     ['super', 'excite', 'super', 'excite', 'offer'...\n",
       "8180     ['wait', 'refund', 'soon', 'get', 'wait', 'ref...\n",
       "13955    ['poor', 'quality', 'clothing', 'poor', 'quali...\n",
       "6729     ['first', 'time', 'use', 'first', 'time', 'use...\n",
       "                               ...                        \n",
       "15002    ['poor', 'quality', 'poor', 'quality', 'fabric...\n",
       "10159    ['parcel', 'claim', 'deliver', 'parcel', 'clai...\n",
       "5195     ['quick', 'response', 'great', 'kelly', 'provi...\n",
       "19013    ['quality', 'item', 'poor', 'quality', 'item',...\n",
       "2404     ['suite', 'suite', 'take', 'week', 'arrive', '...\n",
       "Name: lemmatized, Length: 3945, dtype: object"
      ]
     },
     "execution_count": 59,
     "metadata": {},
     "output_type": "execute_result"
    }
   ],
   "source": [
    "X_train"
   ]
  },
  {
   "cell_type": "code",
   "execution_count": 60,
   "metadata": {},
   "outputs": [
    {
     "data": {
      "text/plain": [
       "5476    ['hoodie', 'take', 'day', 'come', 'hoodie', 't...\n",
       "3334    ['coupon', 'issue', 'use', 'coupon', 'new', 'p...\n",
       "2314    ['return', 'enquiry', 'covid', 'place', 'april...\n",
       "1848    ['love', 'order', 'love', 'order', 'ive', 'com...\n",
       "1827    ['update', 'address', 'submit', 'incorrect', '...\n",
       "                              ...                        \n",
       "6642    ['good', 'clothes', 'good', 'clothes', 'delive...\n",
       "6616    ['first', 'first', 'get', 'jacket', 'im', 'sur...\n",
       "5709    ['good', 'respond', 'good', 'respond', 'size',...\n",
       "7887    ['still', 'wait', 'place', 'dec', 'inform', 's...\n",
       "5489    ['hit', 'miss', 'hit', 'miss', 'thought', 'exp...\n",
       "Name: lemmatized, Length: 987, dtype: object"
      ]
     },
     "execution_count": 60,
     "metadata": {},
     "output_type": "execute_result"
    }
   ],
   "source": [
    "X_test"
   ]
  },
  {
   "cell_type": "code",
   "execution_count": 61,
   "metadata": {},
   "outputs": [
    {
     "data": {
      "text/plain": [
       "1430     2\n",
       "4033     1\n",
       "8180     2\n",
       "13955    2\n",
       "6729     2\n",
       "        ..\n",
       "15002    1\n",
       "10159    2\n",
       "5195     4\n",
       "19013    3\n",
       "2404     3\n",
       "Name: stars, Length: 3945, dtype: int64"
      ]
     },
     "execution_count": 61,
     "metadata": {},
     "output_type": "execute_result"
    }
   ],
   "source": [
    "y_train"
   ]
  },
  {
   "cell_type": "code",
   "execution_count": 62,
   "metadata": {},
   "outputs": [
    {
     "data": {
      "text/plain": [
       "5476    4\n",
       "3334    3\n",
       "2314    3\n",
       "1848    3\n",
       "1827    2\n",
       "       ..\n",
       "6642    2\n",
       "6616    4\n",
       "5709    3\n",
       "7887    2\n",
       "5489    3\n",
       "Name: stars, Length: 987, dtype: int64"
      ]
     },
     "execution_count": 62,
     "metadata": {},
     "output_type": "execute_result"
    }
   ],
   "source": [
    "y_test"
   ]
  },
  {
   "cell_type": "markdown",
   "metadata": {},
   "source": [
    "Modelling using balanced sample.\n",
    "\n",
    "I create a model pipeline including the vectorizer, TfidfTransformer and classifier"
   ]
  },
  {
   "cell_type": "markdown",
   "metadata": {},
   "source": [
    "# Naive Bayes (Multinomial)"
   ]
  },
  {
   "cell_type": "code",
   "execution_count": 63,
   "metadata": {},
   "outputs": [],
   "source": [
    "model_nb = Pipeline([('vect', CountVectorizer(min_df = 5, ngram_range = (1,2))),\n",
    "                   ('tfidf', TfidfTransformer()),\n",
    "                   ('clf', MultinomialNB()),\n",
    "                   ])\n",
    "\n",
    "model_nb.fit(X_train, y_train)\n",
    "\n",
    "ytest = np.array(y_test)\n",
    "pred_y = model_nb.predict(X_test)"
   ]
  },
  {
   "cell_type": "code",
   "execution_count": 64,
   "metadata": {},
   "outputs": [
    {
     "name": "stdout",
     "output_type": "stream",
     "text": [
      "The model accuracy is 0.5238095238095238\n",
      "              precision    recall  f1-score   support\n",
      "\n",
      "           1       0.58      0.73      0.64       201\n",
      "           2       0.44      0.44      0.44       202\n",
      "           3       0.40      0.22      0.28       181\n",
      "           4       0.51      0.45      0.48       196\n",
      "           5       0.60      0.74      0.66       207\n",
      "\n",
      "    accuracy                           0.52       987\n",
      "   macro avg       0.50      0.52      0.50       987\n",
      "weighted avg       0.51      0.52      0.51       987\n",
      "\n"
     ]
    }
   ],
   "source": [
    "print('The model accuracy is %s' % accuracy_score(pred_y, y_test))\n",
    "print(classification_report(ytest, pred_y))"
   ]
  },
  {
   "cell_type": "code",
   "execution_count": 65,
   "metadata": {},
   "outputs": [
    {
     "name": "stdout",
     "output_type": "stream",
     "text": [
      "[[147  38   8   0   8]\n",
      " [ 71  89  25   9   8]\n",
      " [ 30  56  39  39  17]\n",
      " [  4  15  18  88  71]\n",
      " [  3   5   7  38 154]]\n"
     ]
    }
   ],
   "source": [
    "print(confusion_matrix(ytest, pred_y))"
   ]
  },
  {
   "cell_type": "code",
   "execution_count": 66,
   "metadata": {},
   "outputs": [
    {
     "data": {
      "image/png": "[encoded data removed]",
      "text/plain": [
       "<Figure size 432x288 with 2 Axes>"
      ]
     },
     "metadata": {
      "needs_background": "light"
     },
     "output_type": "display_data"
    }
   ],
   "source": [
    "import matplotlib.pyplot as plt\n",
    "import seaborn as sns\n",
    "from sklearn import metrics\n",
    "import numpy as np\n",
    "\n",
    "cnf_matrix = metrics.confusion_matrix(ytest, pred_y)\n",
    "cnf_matrix\n",
    "class_names = ['Not Recommended','Recommended'] # name  of classes\n",
    "fig, ax = plt.subplots()\n",
    "tick_marks = np.arange(len(class_names))\n",
    "plt.xticks(tick_marks, class_names)\n",
    "plt.yticks(tick_marks, class_names)\n",
    "\n",
    "# create heatmap\n",
    "sns.heatmap(pd.DataFrame(cnf_matrix), annot = True, cmap = \"YlGnBu\" ,fmt = 'g')\n",
    "ax.xaxis.set_label_position(\"top\")\n",
    "plt.tight_layout()\n",
    "plt.title('Confusion matrix', y = 1.1)\n",
    "plt.ylabel('Actual label')\n",
    "plt.xlabel('Predicted label');"
   ]
  },
  {
   "cell_type": "markdown",
   "metadata": {},
   "source": [
    "We will compare the results from the Multinomial Naive Bayes model with some other common models"
   ]
  },
  {
   "cell_type": "markdown",
   "metadata": {},
   "source": [
    "# Logistic Regression"
   ]
  },
  {
   "cell_type": "code",
   "execution_count": 67,
   "metadata": {},
   "outputs": [],
   "source": [
    "model_lr = Pipeline([('vect', CountVectorizer(min_df = 5, ngram_range = (1,2))),\n",
    "                   ('tfidf', TfidfTransformer()),\n",
    "                   ('clf', LogisticRegression(class_weight='balanced')),\n",
    "                   ])\n",
    "\n",
    "model_lr.fit(X_train, y_train)\n",
    "\n",
    "ytest = np.array(y_test)\n",
    "pred_y = model_lr.predict(X_test)"
   ]
  },
  {
   "cell_type": "code",
   "execution_count": 68,
   "metadata": {},
   "outputs": [
    {
     "name": "stdout",
     "output_type": "stream",
     "text": [
      "accuracy 0.5440729483282675\n",
      "              precision    recall  f1-score   support\n",
      "\n",
      "           1       0.63      0.66      0.65       201\n",
      "           2       0.46      0.42      0.44       202\n",
      "           3       0.41      0.41      0.41       181\n",
      "           4       0.55      0.48      0.52       196\n",
      "           5       0.62      0.72      0.67       207\n",
      "\n",
      "    accuracy                           0.54       987\n",
      "   macro avg       0.54      0.54      0.54       987\n",
      "weighted avg       0.54      0.54      0.54       987\n",
      "\n"
     ]
    }
   ],
   "source": [
    "print('accuracy %s' % accuracy_score(pred_y, y_test))\n",
    "print(classification_report(ytest, pred_y))"
   ]
  },
  {
   "cell_type": "code",
   "execution_count": 69,
   "metadata": {},
   "outputs": [
    {
     "name": "stdout",
     "output_type": "stream",
     "text": [
      "[[132  41  17   1  10]\n",
      " [ 59  85  45   3  10]\n",
      " [ 15  45  75  34  12]\n",
      " [  1  12  30  95  58]\n",
      " [  1   3  14  39 150]]\n"
     ]
    }
   ],
   "source": [
    "print(confusion_matrix(ytest, pred_y))"
   ]
  },
  {
   "cell_type": "code",
   "execution_count": 70,
   "metadata": {},
   "outputs": [
    {
     "data": {
      "image/png": "[encoded data removed]",
      "text/plain": [
       "<Figure size 432x288 with 2 Axes>"
      ]
     },
     "metadata": {
      "needs_background": "light"
     },
     "output_type": "display_data"
    }
   ],
   "source": [
    "cnf_matrix = metrics.confusion_matrix(ytest, pred_y)\n",
    "cnf_matrix\n",
    "class_names = ['Not Recommended','Recommended'] # name  of classes\n",
    "fig, ax = plt.subplots()\n",
    "tick_marks = np.arange(len(class_names))\n",
    "plt.xticks(tick_marks, class_names)\n",
    "plt.yticks(tick_marks, class_names)\n",
    "\n",
    "# create heatmap\n",
    "sns.heatmap(pd.DataFrame(cnf_matrix), annot = True, cmap = \"YlGnBu\" ,fmt = 'g')\n",
    "ax.xaxis.set_label_position(\"top\")\n",
    "plt.tight_layout()\n",
    "plt.title('Confusion matrix', y = 1.1)\n",
    "plt.ylabel('Actual label')\n",
    "plt.xlabel('Predicted label');"
   ]
  },
  {
   "cell_type": "markdown",
   "metadata": {},
   "source": [
    "# Decision Tree"
   ]
  },
  {
   "cell_type": "code",
   "execution_count": 71,
   "metadata": {},
   "outputs": [],
   "source": [
    "model_dt = Pipeline([('vect', CountVectorizer(min_df = 5, ngram_range = (1,2))),\n",
    "                   ('tfidf', TfidfTransformer()),\n",
    "                   ('clf', DecisionTreeClassifier(class_weight='balanced')),\n",
    "                   ])\n",
    "\n",
    "model_dt.fit(X_train, y_train)\n",
    "\n",
    "ytest = np.array(y_test)\n",
    "pred_y = model_dt.predict(X_test)"
   ]
  },
  {
   "cell_type": "code",
   "execution_count": 72,
   "metadata": {},
   "outputs": [
    {
     "name": "stdout",
     "output_type": "stream",
     "text": [
      "accuracy 0.39311043566362713\n",
      "              precision    recall  f1-score   support\n",
      "\n",
      "           1       0.47      0.47      0.47       201\n",
      "           2       0.34      0.32      0.33       202\n",
      "           3       0.28      0.24      0.26       181\n",
      "           4       0.34      0.35      0.35       196\n",
      "           5       0.49      0.56      0.52       207\n",
      "\n",
      "    accuracy                           0.39       987\n",
      "   macro avg       0.38      0.39      0.39       987\n",
      "weighted avg       0.39      0.39      0.39       987\n",
      "\n"
     ]
    }
   ],
   "source": [
    "print('accuracy %s' % accuracy_score(pred_y, y_test))\n",
    "print(classification_report(ytest, pred_y))"
   ]
  },
  {
   "cell_type": "code",
   "execution_count": 73,
   "metadata": {},
   "outputs": [
    {
     "name": "stdout",
     "output_type": "stream",
     "text": [
      "[[ 95  38  31  23  14]\n",
      " [ 62  64  40  21  15]\n",
      " [ 28  51  44  31  27]\n",
      " [  7  28  25  69  67]\n",
      " [  9  10  15  57 116]]\n"
     ]
    }
   ],
   "source": [
    "print(confusion_matrix(ytest, pred_y))"
   ]
  },
  {
   "cell_type": "code",
   "execution_count": 74,
   "metadata": {},
   "outputs": [
    {
     "data": {
      "image/png": "[encoded data removed]",
      "text/plain": [
       "<Figure size 432x288 with 2 Axes>"
      ]
     },
     "metadata": {
      "needs_background": "light"
     },
     "output_type": "display_data"
    }
   ],
   "source": [
    "cnf_matrix = metrics.confusion_matrix(ytest, pred_y)\n",
    "cnf_matrix\n",
    "class_names = ['Not Recommended','Recommended'] # name  of classes\n",
    "fig, ax = plt.subplots()\n",
    "tick_marks = np.arange(len(class_names))\n",
    "plt.xticks(tick_marks, class_names)\n",
    "plt.yticks(tick_marks, class_names)\n",
    "\n",
    "# create heatmap\n",
    "sns.heatmap(pd.DataFrame(cnf_matrix), annot = True, cmap = \"YlGnBu\" ,fmt = 'g')\n",
    "ax.xaxis.set_label_position(\"top\")\n",
    "plt.tight_layout()\n",
    "plt.title('Confusion matrix', y = 1.1)\n",
    "plt.ylabel('Actual label')\n",
    "plt.xlabel('Predicted label');"
   ]
  },
  {
   "cell_type": "markdown",
   "metadata": {},
   "source": [
    "# Random Forest"
   ]
  },
  {
   "cell_type": "code",
   "execution_count": 75,
   "metadata": {},
   "outputs": [],
   "source": [
    "model_rf = Pipeline([('vect', CountVectorizer(min_df = 5, ngram_range = (1,2))),\n",
    "                   ('tfidf', TfidfTransformer()),\n",
    "                   ('clf', RandomForestClassifier(class_weight='balanced')),\n",
    "                   ])\n",
    "\n",
    "model_rf.fit(X_train, y_train)\n",
    "\n",
    "ytest = np.array(y_test)\n",
    "pred_y = model_rf.predict(X_test)"
   ]
  },
  {
   "cell_type": "code",
   "execution_count": 76,
   "metadata": {},
   "outputs": [
    {
     "name": "stdout",
     "output_type": "stream",
     "text": [
      "accuracy 0.49240121580547114\n",
      "              precision    recall  f1-score   support\n",
      "\n",
      "           1       0.52      0.66      0.58       201\n",
      "           2       0.39      0.36      0.38       202\n",
      "           3       0.37      0.21      0.27       181\n",
      "           4       0.52      0.43      0.47       196\n",
      "           5       0.56      0.76      0.65       207\n",
      "\n",
      "    accuracy                           0.49       987\n",
      "   macro avg       0.47      0.49      0.47       987\n",
      "weighted avg       0.48      0.49      0.47       987\n",
      "\n"
     ]
    }
   ],
   "source": [
    "print('accuracy %s' % accuracy_score(pred_y, y_test))\n",
    "print(classification_report(ytest, pred_y))"
   ]
  },
  {
   "cell_type": "code",
   "execution_count": 77,
   "metadata": {},
   "outputs": [
    {
     "name": "stdout",
     "output_type": "stream",
     "text": [
      "[[132  45   5   2  17]\n",
      " [ 81  73  31   9   8]\n",
      " [ 29  54  38  36  24]\n",
      " [  6  12  20  85  73]\n",
      " [  5   3   9  32 158]]\n"
     ]
    }
   ],
   "source": [
    "print(confusion_matrix(ytest, pred_y))"
   ]
  },
  {
   "cell_type": "code",
   "execution_count": 78,
   "metadata": {},
   "outputs": [
    {
     "data": {
      "image/png": "[encoded data removed]",
      "text/plain": [
       "<Figure size 432x288 with 2 Axes>"
      ]
     },
     "metadata": {
      "needs_background": "light"
     },
     "output_type": "display_data"
    }
   ],
   "source": [
    "cnf_matrix = metrics.confusion_matrix(ytest, pred_y)\n",
    "cnf_matrix\n",
    "class_names = ['Not Recommended','Recommended'] # name  of classes\n",
    "fig, ax = plt.subplots()\n",
    "tick_marks = np.arange(len(class_names))\n",
    "plt.xticks(tick_marks, class_names)\n",
    "plt.yticks(tick_marks, class_names)\n",
    "\n",
    "# create heatmap\n",
    "sns.heatmap(pd.DataFrame(cnf_matrix), annot = True, cmap = \"YlGnBu\" ,fmt = 'g')\n",
    "ax.xaxis.set_label_position(\"top\")\n",
    "plt.tight_layout()\n",
    "plt.title('Confusion matrix', y = 1.1)\n",
    "plt.ylabel('Actual label')\n",
    "plt.xlabel('Predicted label');"
   ]
  },
  {
   "cell_type": "markdown",
   "metadata": {},
   "source": [
    "# Support Vector Machines (SVM)"
   ]
  },
  {
   "cell_type": "code",
   "execution_count": 79,
   "metadata": {},
   "outputs": [],
   "source": [
    "model_svm = Pipeline([('vect', CountVectorizer(min_df = 5, ngram_range = (1,2))),\n",
    "                   ('tfidf', TfidfTransformer()),\n",
    "                   ('clf', svm.SVC(class_weight='balanced')),\n",
    "                   ])\n",
    "\n",
    "model_svm.fit(X_train, y_train)\n",
    "\n",
    "ytest = np.array(y_test)\n",
    "pred_y = model_svm.predict(X_test)"
   ]
  },
  {
   "cell_type": "code",
   "execution_count": 80,
   "metadata": {},
   "outputs": [
    {
     "name": "stdout",
     "output_type": "stream",
     "text": [
      "accuracy 0.5329280648429585\n",
      "              precision    recall  f1-score   support\n",
      "\n",
      "           1       0.66      0.62      0.64       201\n",
      "           2       0.48      0.49      0.48       202\n",
      "           3       0.39      0.41      0.40       181\n",
      "           4       0.52      0.43      0.47       196\n",
      "           5       0.61      0.70      0.65       207\n",
      "\n",
      "    accuracy                           0.53       987\n",
      "   macro avg       0.53      0.53      0.53       987\n",
      "weighted avg       0.53      0.53      0.53       987\n",
      "\n"
     ]
    }
   ],
   "source": [
    "print('accuracy %s' % accuracy_score(pred_y, y_test))\n",
    "print(classification_report(ytest, pred_y))"
   ]
  },
  {
   "cell_type": "code",
   "execution_count": 81,
   "metadata": {},
   "outputs": [
    {
     "name": "stdout",
     "output_type": "stream",
     "text": [
      "[[124  45  24   0   8]\n",
      " [ 49  98  46   2   7]\n",
      " [ 13  46  75  36  11]\n",
      " [  1  13  32  84  66]\n",
      " [  1   3  17  41 145]]\n"
     ]
    }
   ],
   "source": [
    "print(confusion_matrix(ytest, pred_y))"
   ]
  },
  {
   "cell_type": "code",
   "execution_count": 82,
   "metadata": {},
   "outputs": [
    {
     "data": {
      "image/png": "[encoded data removed]",
      "text/plain": [
       "<Figure size 432x288 with 2 Axes>"
      ]
     },
     "metadata": {
      "needs_background": "light"
     },
     "output_type": "display_data"
    }
   ],
   "source": [
    "cnf_matrix = metrics.confusion_matrix(ytest, pred_y)\n",
    "cnf_matrix\n",
    "class_names = ['Not Recommended','Recommended'] # name  of classes\n",
    "fig, ax = plt.subplots()\n",
    "tick_marks = np.arange(len(class_names))\n",
    "plt.xticks(tick_marks, class_names)\n",
    "plt.yticks(tick_marks, class_names)\n",
    "\n",
    "# create heatmap\n",
    "sns.heatmap(pd.DataFrame(cnf_matrix), annot = True, cmap = \"YlGnBu\" ,fmt = 'g')\n",
    "ax.xaxis.set_label_position(\"top\")\n",
    "plt.tight_layout()\n",
    "plt.title('Confusion matrix', y = 1.1)\n",
    "plt.ylabel('Actual label')\n",
    "plt.xlabel('Predicted label');"
   ]
  },
  {
   "cell_type": "markdown",
   "metadata": {},
   "source": [
    "Modeling using the full sample - unbalanced."
   ]
  },
  {
   "cell_type": "code",
   "execution_count": null,
   "metadata": {},
   "outputs": [],
   "source": [
    "analysis_df['stars'].value_counts()"
   ]
  },
  {
   "cell_type": "code",
   "execution_count": null,
   "metadata": {},
   "outputs": [],
   "source": [
    "X = analysis_df['lemmatized']\n",
    "y = analysis_df['stars']\n",
    "\n",
    "X_train, X_test, y_train, y_test = train_test_split(X, y, test_size = 0.2, random_state = 0)"
   ]
  },
  {
   "cell_type": "code",
   "execution_count": null,
   "metadata": {},
   "outputs": [],
   "source": [
    "X_train"
   ]
  },
  {
   "cell_type": "code",
   "execution_count": null,
   "metadata": {},
   "outputs": [],
   "source": [
    "X_test"
   ]
  },
  {
   "cell_type": "code",
   "execution_count": null,
   "metadata": {},
   "outputs": [],
   "source": [
    "y_train"
   ]
  },
  {
   "cell_type": "code",
   "execution_count": null,
   "metadata": {},
   "outputs": [],
   "source": [
    "y_test"
   ]
  },
  {
   "cell_type": "markdown",
   "metadata": {},
   "source": [
    "# Naive Bayes"
   ]
  },
  {
   "cell_type": "code",
   "execution_count": null,
   "metadata": {},
   "outputs": [],
   "source": [
    "model_nb = Pipeline([('vect', CountVectorizer(min_df = 5, ngram_range = (1,2))),\n",
    "                   ('tfidf', TfidfTransformer()),\n",
    "                   ('clf', MultinomialNB()),\n",
    "                   ])\n",
    "\n",
    "model_nb.fit(X_train, y_train)\n",
    "\n",
    "ytest = np.array(y_test)\n",
    "pred_y = model_nb.predict(X_test)"
   ]
  },
  {
   "cell_type": "code",
   "execution_count": null,
   "metadata": {},
   "outputs": [],
   "source": [
    "print('accuracy %s' % accuracy_score(pred_y, y_test))\n",
    "print(classification_report(ytest, pred_y))\n",
    "\n",
    "# The model is only able to classify reviews that are rated 1 or 5 (the oversampled classes)"
   ]
  },
  {
   "cell_type": "code",
   "execution_count": null,
   "metadata": {},
   "outputs": [],
   "source": [
    "print(confusion_matrix(ytest, pred_y))"
   ]
  },
  {
   "cell_type": "markdown",
   "metadata": {},
   "source": [
    "# Logistic Regression"
   ]
  },
  {
   "cell_type": "code",
   "execution_count": null,
   "metadata": {},
   "outputs": [],
   "source": [
    "model_lr = Pipeline([('vect', CountVectorizer(min_df = 5, ngram_range = (1,2))),\n",
    "                   ('tfidf', TfidfTransformer()),\n",
    "                   ('clf', LogisticRegression(class_weight = 'balanced')),     # The attributre class_weight='balanced' helps balance uneven sample classes\n",
    "                   ])\n",
    "\n",
    "model_lr.fit(X_train, y_train)\n",
    "\n",
    "ytest = np.array(y_test)\n",
    "pred_y = model_lr.predict(X_test)"
   ]
  },
  {
   "cell_type": "code",
   "execution_count": null,
   "metadata": {},
   "outputs": [],
   "source": [
    "print('accuracy %s' % accuracy_score(pred_y, y_test))\n",
    "print(classification_report(ytest, pred_y))"
   ]
  },
  {
   "cell_type": "code",
   "execution_count": null,
   "metadata": {},
   "outputs": [],
   "source": [
    "print(confusion_matrix(ytest, pred_y))"
   ]
  },
  {
   "cell_type": "markdown",
   "metadata": {},
   "source": [
    "# Decision Tree"
   ]
  },
  {
   "cell_type": "code",
   "execution_count": null,
   "metadata": {},
   "outputs": [],
   "source": [
    "model_dt = Pipeline([('vect', CountVectorizer(min_df = 5, ngram_range = (1,2))),\n",
    "                   ('tfidf', TfidfTransformer()),\n",
    "                   ('clf', DecisionTreeClassifier(class_weight='balanced')),\n",
    "                   ])\n",
    "\n",
    "model_dt.fit(X_train, y_train)\n",
    "\n",
    "ytest = np.array(y_test)\n",
    "pred_y = model_dt.predict(X_test)"
   ]
  },
  {
   "cell_type": "code",
   "execution_count": null,
   "metadata": {},
   "outputs": [],
   "source": [
    "print('accuracy %s' % accuracy_score(pred_y, y_test))\n",
    "print(classification_report(ytest, pred_y))"
   ]
  },
  {
   "cell_type": "code",
   "execution_count": null,
   "metadata": {},
   "outputs": [],
   "source": [
    "print(confusion_matrix(ytest, pred_y))"
   ]
  },
  {
   "cell_type": "markdown",
   "metadata": {},
   "source": [
    "# Random Forest"
   ]
  },
  {
   "cell_type": "code",
   "execution_count": null,
   "metadata": {},
   "outputs": [],
   "source": [
    "model_rf = Pipeline([('vect', CountVectorizer(min_df = 5, ngram_range = (1,2))),\n",
    "                   ('tfidf', TfidfTransformer()),\n",
    "                   ('clf', RandomForestClassifier(class_weight='balanced')),\n",
    "                   ])\n",
    "\n",
    "model_rf.fit(X_train, y_train)\n",
    "\n",
    "ytest = np.array(y_test)\n",
    "pred_y = model_rf.predict(X_test)"
   ]
  },
  {
   "cell_type": "code",
   "execution_count": null,
   "metadata": {},
   "outputs": [],
   "source": [
    "print('accuracy %s' % accuracy_score(pred_y, y_test))\n",
    "print(classification_report(ytest, pred_y))"
   ]
  },
  {
   "cell_type": "code",
   "execution_count": null,
   "metadata": {},
   "outputs": [],
   "source": [
    "print(confusion_matrix(ytest, pred_y))"
   ]
  },
  {
   "cell_type": "markdown",
   "metadata": {},
   "source": [
    "# Support Vector Machines (SVM)"
   ]
  },
  {
   "cell_type": "code",
   "execution_count": null,
   "metadata": {},
   "outputs": [],
   "source": [
    "model_svm = Pipeline([('vect', CountVectorizer(min_df = 5, ngram_range = (1,2))),\n",
    "                   ('tfidf', TfidfTransformer()),\n",
    "                   ('clf', svm.SVC(class_weight = 'balanced')),\n",
    "                   ])\n",
    "\n",
    "model_svm.fit(X_train, y_train)\n",
    "\n",
    "ytest = np.array(y_test)\n",
    "pred_y = model_svm.predict(X_test)"
   ]
  },
  {
   "cell_type": "code",
   "execution_count": null,
   "metadata": {},
   "outputs": [],
   "source": [
    "print('accuracy %s' % accuracy_score(pred_y, y_test))\n",
    "print(classification_report(ytest, pred_y))"
   ]
  },
  {
   "cell_type": "code",
   "execution_count": null,
   "metadata": {},
   "outputs": [],
   "source": [
    "print(confusion_matrix(ytest, pred_y))"
   ]
  },
  {
   "cell_type": "code",
   "execution_count": null,
   "metadata": {},
   "outputs": [],
   "source": []
  }
 ],
 "metadata": {
  "kernelspec": {
   "display_name": "Python 3",
   "language": "python",
   "name": "python3"
  },
  "language_info": {
   "codemirror_mode": {
    "name": "ipython",
    "version": 3
   },
   "file_extension": ".py",
   "mimetype": "text/x-python",
   "name": "python",
   "nbconvert_exporter": "python",
   "pygments_lexer": "ipython3",
   "version": "3.7.6"
  }
 },
 "nbformat": 4,
 "nbformat_minor": 4
}
