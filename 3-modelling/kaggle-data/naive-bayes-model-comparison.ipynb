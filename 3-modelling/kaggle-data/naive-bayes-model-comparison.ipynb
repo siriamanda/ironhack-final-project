{
 "cells": [
  {
   "cell_type": "code",
   "execution_count": 1,
   "metadata": {},
   "outputs": [],
   "source": [
    "import pandas as pd\n",
    "import numpy as np\n",
    "\n",
    "import seaborn as sns\n",
    "import plotly.express as px\n",
    "from matplotlib import pyplot as plt \n",
    "%matplotlib inline\n",
    "\n",
    "import math\n",
    "from scipy import stats\n",
    "\n",
    "from textblob import TextBlob\n",
    "\n",
    "import warnings\n",
    "warnings.filterwarnings('ignore') \n",
    "\n",
    "from sklearn.pipeline import Pipeline\n",
    "from sklearn.naive_bayes import MultinomialNB\n",
    "from sklearn.linear_model import LogisticRegression\n",
    "from sklearn.tree import DecisionTreeClassifier\n",
    "from sklearn.ensemble import RandomForestClassifier\n",
    "from sklearn import svm\n",
    "from sklearn.feature_extraction.text import CountVectorizer, TfidfTransformer\n",
    "from sklearn.model_selection import train_test_split, GridSearchCV\n",
    "from sklearn.metrics import plot_confusion_matrix, classification_report, accuracy_score\n",
    "\n",
    "from sklearn.metrics import confusion_matrix\n"
   ]
  },
  {
   "cell_type": "code",
   "execution_count": 2,
   "metadata": {},
   "outputs": [],
   "source": [
    "reviews_df = pd.read_csv('clothing_reviews_clean.csv')"
   ]
  },
  {
   "cell_type": "code",
   "execution_count": 3,
   "metadata": {},
   "outputs": [
    {
     "data": {
      "text/html": [
       "<div>\n",
       "<style scoped>\n",
       "    .dataframe tbody tr th:only-of-type {\n",
       "        vertical-align: middle;\n",
       "    }\n",
       "\n",
       "    .dataframe tbody tr th {\n",
       "        vertical-align: top;\n",
       "    }\n",
       "\n",
       "    .dataframe thead th {\n",
       "        text-align: right;\n",
       "    }\n",
       "</style>\n",
       "<table border=\"1\" class=\"dataframe\">\n",
       "  <thead>\n",
       "    <tr style=\"text-align: right;\">\n",
       "      <th></th>\n",
       "      <th>Unnamed: 0</th>\n",
       "      <th>review</th>\n",
       "      <th>recommended</th>\n",
       "      <th>length</th>\n",
       "      <th>polarity</th>\n",
       "      <th>lower</th>\n",
       "      <th>no_punc</th>\n",
       "      <th>no_stop</th>\n",
       "      <th>no_num</th>\n",
       "      <th>words_removed</th>\n",
       "      <th>token</th>\n",
       "      <th>pos_tags</th>\n",
       "      <th>lemmatized</th>\n",
       "      <th>joined</th>\n",
       "    </tr>\n",
       "  </thead>\n",
       "  <tbody>\n",
       "    <tr>\n",
       "      <th>0</th>\n",
       "      <td>0</td>\n",
       "      <td>Absolutely wonderful - silky and sexy and comf...</td>\n",
       "      <td>1</td>\n",
       "      <td>53</td>\n",
       "      <td>0.633333</td>\n",
       "      <td>absolutely wonderful - silky and sexy and comf...</td>\n",
       "      <td>absolutely wonderful  silky and sexy and comfo...</td>\n",
       "      <td>absolutely wonderful silky sexy comfortable</td>\n",
       "      <td>absolutely wonderful silky sexy comfortable</td>\n",
       "      <td>absolutely wonderful silky sexy comfortable</td>\n",
       "      <td>['absolutely', 'wonderful', 'silky', 'sexy', '...</td>\n",
       "      <td>[('absolutely', 'RB'), ('wonderful', 'JJ'), ('...</td>\n",
       "      <td>['absolutely', 'wonderful', 'silky', 'sexy', '...</td>\n",
       "      <td>absolutely wonderful silky sexy comfortable</td>\n",
       "    </tr>\n",
       "    <tr>\n",
       "      <th>1</th>\n",
       "      <td>1</td>\n",
       "      <td>Love this dress!  it's sooo pretty.  i happene...</td>\n",
       "      <td>1</td>\n",
       "      <td>303</td>\n",
       "      <td>0.339583</td>\n",
       "      <td>love this dress! it's sooo pretty. i happened ...</td>\n",
       "      <td>love this dress its sooo pretty i happened to ...</td>\n",
       "      <td>love dress sooo pretty happened find store im ...</td>\n",
       "      <td>love dress sooo pretty happened find store im ...</td>\n",
       "      <td>love sooo pretty happened find store glad bc n...</td>\n",
       "      <td>['love', 'sooo', 'pretty', 'happened', 'find',...</td>\n",
       "      <td>[('love', 'VB'), ('sooo', 'NN'), ('pretty', 'R...</td>\n",
       "      <td>['love', 'sooo', 'pretty', 'happen', 'find', '...</td>\n",
       "      <td>love sooo pretty happen find store glad bc nev...</td>\n",
       "    </tr>\n",
       "    <tr>\n",
       "      <th>2</th>\n",
       "      <td>2</td>\n",
       "      <td>I had such high hopes for this dress and reall...</td>\n",
       "      <td>0</td>\n",
       "      <td>500</td>\n",
       "      <td>0.073675</td>\n",
       "      <td>i had such high hopes for this dress and reall...</td>\n",
       "      <td>i had such high hopes for this dress and reall...</td>\n",
       "      <td>high hopes dress really wanted work initially ...</td>\n",
       "      <td>high hopes dress really wanted work initially ...</td>\n",
       "      <td>high hopes really wanted work initially ordere...</td>\n",
       "      <td>['high', 'hopes', 'really', 'wanted', 'work', ...</td>\n",
       "      <td>[('high', 'JJ'), ('hopes', 'NNS'), ('really', ...</td>\n",
       "      <td>['high', 'hope', 'really', 'want', 'work', 'in...</td>\n",
       "      <td>high hope really want work initially order pet...</td>\n",
       "    </tr>\n",
       "    <tr>\n",
       "      <th>3</th>\n",
       "      <td>3</td>\n",
       "      <td>I love, love, love this jumpsuit. it's fun, fl...</td>\n",
       "      <td>1</td>\n",
       "      <td>124</td>\n",
       "      <td>0.550000</td>\n",
       "      <td>i love, love, love this jumpsuit. it's fun, fl...</td>\n",
       "      <td>i love love love this jumpsuit its fun flirty ...</td>\n",
       "      <td>love love love jumpsuit fun flirty fabulous ev...</td>\n",
       "      <td>love love love jumpsuit fun flirty fabulous ev...</td>\n",
       "      <td>love love love jumpsuit fun flirty fabulous ev...</td>\n",
       "      <td>['love', 'love', 'love', 'jumpsuit', 'fun', 'f...</td>\n",
       "      <td>[('love', 'VB'), ('love', 'NN'), ('love', 'NN'...</td>\n",
       "      <td>['love', 'love', 'love', 'jumpsuit', 'fun', 'f...</td>\n",
       "      <td>love love love jumpsuit fun flirty fabulous ev...</td>\n",
       "    </tr>\n",
       "    <tr>\n",
       "      <th>4</th>\n",
       "      <td>4</td>\n",
       "      <td>This shirt is very flattering to all due to th...</td>\n",
       "      <td>1</td>\n",
       "      <td>192</td>\n",
       "      <td>0.512891</td>\n",
       "      <td>this shirt is very flattering to all due to th...</td>\n",
       "      <td>this shirt is very flattering to all due to th...</td>\n",
       "      <td>shirt flattering due adjustable front tie perf...</td>\n",
       "      <td>shirt flattering due adjustable front tie perf...</td>\n",
       "      <td>flattering due adjustable front tie perfect le...</td>\n",
       "      <td>['flattering', 'due', 'adjustable', 'front', '...</td>\n",
       "      <td>[('flattering', 'VBG'), ('due', 'JJ'), ('adjus...</td>\n",
       "      <td>['flatter', 'due', 'adjustable', 'front', 'tie...</td>\n",
       "      <td>flatter due adjustable front tie perfect lengt...</td>\n",
       "    </tr>\n",
       "  </tbody>\n",
       "</table>\n",
       "</div>"
      ],
      "text/plain": [
       "   Unnamed: 0                                             review  recommended  \\\n",
       "0           0  Absolutely wonderful - silky and sexy and comf...            1   \n",
       "1           1  Love this dress!  it's sooo pretty.  i happene...            1   \n",
       "2           2  I had such high hopes for this dress and reall...            0   \n",
       "3           3  I love, love, love this jumpsuit. it's fun, fl...            1   \n",
       "4           4  This shirt is very flattering to all due to th...            1   \n",
       "\n",
       "   length  polarity                                              lower  \\\n",
       "0      53  0.633333  absolutely wonderful - silky and sexy and comf...   \n",
       "1     303  0.339583  love this dress! it's sooo pretty. i happened ...   \n",
       "2     500  0.073675  i had such high hopes for this dress and reall...   \n",
       "3     124  0.550000  i love, love, love this jumpsuit. it's fun, fl...   \n",
       "4     192  0.512891  this shirt is very flattering to all due to th...   \n",
       "\n",
       "                                             no_punc  \\\n",
       "0  absolutely wonderful  silky and sexy and comfo...   \n",
       "1  love this dress its sooo pretty i happened to ...   \n",
       "2  i had such high hopes for this dress and reall...   \n",
       "3  i love love love this jumpsuit its fun flirty ...   \n",
       "4  this shirt is very flattering to all due to th...   \n",
       "\n",
       "                                             no_stop  \\\n",
       "0        absolutely wonderful silky sexy comfortable   \n",
       "1  love dress sooo pretty happened find store im ...   \n",
       "2  high hopes dress really wanted work initially ...   \n",
       "3  love love love jumpsuit fun flirty fabulous ev...   \n",
       "4  shirt flattering due adjustable front tie perf...   \n",
       "\n",
       "                                              no_num  \\\n",
       "0        absolutely wonderful silky sexy comfortable   \n",
       "1  love dress sooo pretty happened find store im ...   \n",
       "2  high hopes dress really wanted work initially ...   \n",
       "3  love love love jumpsuit fun flirty fabulous ev...   \n",
       "4  shirt flattering due adjustable front tie perf...   \n",
       "\n",
       "                                       words_removed  \\\n",
       "0        absolutely wonderful silky sexy comfortable   \n",
       "1  love sooo pretty happened find store glad bc n...   \n",
       "2  high hopes really wanted work initially ordere...   \n",
       "3  love love love jumpsuit fun flirty fabulous ev...   \n",
       "4  flattering due adjustable front tie perfect le...   \n",
       "\n",
       "                                               token  \\\n",
       "0  ['absolutely', 'wonderful', 'silky', 'sexy', '...   \n",
       "1  ['love', 'sooo', 'pretty', 'happened', 'find',...   \n",
       "2  ['high', 'hopes', 'really', 'wanted', 'work', ...   \n",
       "3  ['love', 'love', 'love', 'jumpsuit', 'fun', 'f...   \n",
       "4  ['flattering', 'due', 'adjustable', 'front', '...   \n",
       "\n",
       "                                            pos_tags  \\\n",
       "0  [('absolutely', 'RB'), ('wonderful', 'JJ'), ('...   \n",
       "1  [('love', 'VB'), ('sooo', 'NN'), ('pretty', 'R...   \n",
       "2  [('high', 'JJ'), ('hopes', 'NNS'), ('really', ...   \n",
       "3  [('love', 'VB'), ('love', 'NN'), ('love', 'NN'...   \n",
       "4  [('flattering', 'VBG'), ('due', 'JJ'), ('adjus...   \n",
       "\n",
       "                                          lemmatized  \\\n",
       "0  ['absolutely', 'wonderful', 'silky', 'sexy', '...   \n",
       "1  ['love', 'sooo', 'pretty', 'happen', 'find', '...   \n",
       "2  ['high', 'hope', 'really', 'want', 'work', 'in...   \n",
       "3  ['love', 'love', 'love', 'jumpsuit', 'fun', 'f...   \n",
       "4  ['flatter', 'due', 'adjustable', 'front', 'tie...   \n",
       "\n",
       "                                              joined  \n",
       "0        absolutely wonderful silky sexy comfortable  \n",
       "1  love sooo pretty happen find store glad bc nev...  \n",
       "2  high hope really want work initially order pet...  \n",
       "3  love love love jumpsuit fun flirty fabulous ev...  \n",
       "4  flatter due adjustable front tie perfect lengt...  "
      ]
     },
     "execution_count": 3,
     "metadata": {},
     "output_type": "execute_result"
    }
   ],
   "source": [
    "reviews_df.head()"
   ]
  },
  {
   "cell_type": "code",
   "execution_count": 4,
   "metadata": {},
   "outputs": [
    {
     "data": {
      "text/plain": [
       "1    18540\n",
       "0     4101\n",
       "Name: recommended, dtype: int64"
      ]
     },
     "execution_count": 4,
     "metadata": {},
     "output_type": "execute_result"
    }
   ],
   "source": [
    "reviews_df['recommended'].value_counts()"
   ]
  },
  {
   "cell_type": "code",
   "execution_count": 5,
   "metadata": {},
   "outputs": [],
   "source": [
    "analysis_df = reviews_df[['recommended', 'lemmatized']]"
   ]
  },
  {
   "cell_type": "code",
   "execution_count": 6,
   "metadata": {},
   "outputs": [
    {
     "data": {
      "text/plain": [
       "0        1\n",
       "1        1\n",
       "2        0\n",
       "3        1\n",
       "4        1\n",
       "        ..\n",
       "22636    1\n",
       "22637    1\n",
       "22638    0\n",
       "22639    1\n",
       "22640    1\n",
       "Name: recommended, Length: 22641, dtype: int64"
      ]
     },
     "execution_count": 6,
     "metadata": {},
     "output_type": "execute_result"
    }
   ],
   "source": [
    "analysis_df['recommended']"
   ]
  },
  {
   "cell_type": "code",
   "execution_count": 7,
   "metadata": {},
   "outputs": [],
   "source": [
    "# Create two data frames for 'positive' and 'negative' words\n",
    "\n",
    "pos_df = analysis_df[analysis_df['recommended'] == 1]\n",
    "neg_df = analysis_df[analysis_df['recommended'] == 0]\n"
   ]
  },
  {
   "cell_type": "code",
   "execution_count": 8,
   "metadata": {},
   "outputs": [
    {
     "data": {
      "text/html": [
       "<div>\n",
       "<style scoped>\n",
       "    .dataframe tbody tr th:only-of-type {\n",
       "        vertical-align: middle;\n",
       "    }\n",
       "\n",
       "    .dataframe tbody tr th {\n",
       "        vertical-align: top;\n",
       "    }\n",
       "\n",
       "    .dataframe thead th {\n",
       "        text-align: right;\n",
       "    }\n",
       "</style>\n",
       "<table border=\"1\" class=\"dataframe\">\n",
       "  <thead>\n",
       "    <tr style=\"text-align: right;\">\n",
       "      <th></th>\n",
       "      <th>recommended</th>\n",
       "      <th>lemmatized</th>\n",
       "    </tr>\n",
       "  </thead>\n",
       "  <tbody>\n",
       "    <tr>\n",
       "      <th>0</th>\n",
       "      <td>1</td>\n",
       "      <td>['absolutely', 'wonderful', 'silky', 'sexy', '...</td>\n",
       "    </tr>\n",
       "    <tr>\n",
       "      <th>1</th>\n",
       "      <td>1</td>\n",
       "      <td>['love', 'sooo', 'pretty', 'happen', 'find', '...</td>\n",
       "    </tr>\n",
       "    <tr>\n",
       "      <th>3</th>\n",
       "      <td>1</td>\n",
       "      <td>['love', 'love', 'love', 'jumpsuit', 'fun', 'f...</td>\n",
       "    </tr>\n",
       "    <tr>\n",
       "      <th>4</th>\n",
       "      <td>1</td>\n",
       "      <td>['flatter', 'due', 'adjustable', 'front', 'tie...</td>\n",
       "    </tr>\n",
       "    <tr>\n",
       "      <th>6</th>\n",
       "      <td>1</td>\n",
       "      <td>['aded', 'basket', 'hte', 'last', 'mintue', 's...</td>\n",
       "    </tr>\n",
       "  </tbody>\n",
       "</table>\n",
       "</div>"
      ],
      "text/plain": [
       "   recommended                                         lemmatized\n",
       "0            1  ['absolutely', 'wonderful', 'silky', 'sexy', '...\n",
       "1            1  ['love', 'sooo', 'pretty', 'happen', 'find', '...\n",
       "3            1  ['love', 'love', 'love', 'jumpsuit', 'fun', 'f...\n",
       "4            1  ['flatter', 'due', 'adjustable', 'front', 'tie...\n",
       "6            1  ['aded', 'basket', 'hte', 'last', 'mintue', 's..."
      ]
     },
     "execution_count": 8,
     "metadata": {},
     "output_type": "execute_result"
    }
   ],
   "source": [
    "pos_df.head()"
   ]
  },
  {
   "cell_type": "code",
   "execution_count": 9,
   "metadata": {},
   "outputs": [
    {
     "data": {
      "text/html": [
       "<div>\n",
       "<style scoped>\n",
       "    .dataframe tbody tr th:only-of-type {\n",
       "        vertical-align: middle;\n",
       "    }\n",
       "\n",
       "    .dataframe tbody tr th {\n",
       "        vertical-align: top;\n",
       "    }\n",
       "\n",
       "    .dataframe thead th {\n",
       "        text-align: right;\n",
       "    }\n",
       "</style>\n",
       "<table border=\"1\" class=\"dataframe\">\n",
       "  <thead>\n",
       "    <tr style=\"text-align: right;\">\n",
       "      <th></th>\n",
       "      <th>recommended</th>\n",
       "      <th>lemmatized</th>\n",
       "      <th>polarity</th>\n",
       "    </tr>\n",
       "  </thead>\n",
       "  <tbody>\n",
       "    <tr>\n",
       "      <th>0</th>\n",
       "      <td>1</td>\n",
       "      <td>['absolutely', 'wonderful', 'silky', 'sexy', '...</td>\n",
       "      <td>0.633333</td>\n",
       "    </tr>\n",
       "    <tr>\n",
       "      <th>1</th>\n",
       "      <td>1</td>\n",
       "      <td>['love', 'sooo', 'pretty', 'happen', 'find', '...</td>\n",
       "      <td>0.318750</td>\n",
       "    </tr>\n",
       "    <tr>\n",
       "      <th>3</th>\n",
       "      <td>1</td>\n",
       "      <td>['love', 'love', 'love', 'jumpsuit', 'fun', 'f...</td>\n",
       "      <td>0.500000</td>\n",
       "    </tr>\n",
       "    <tr>\n",
       "      <th>4</th>\n",
       "      <td>1</td>\n",
       "      <td>['flatter', 'due', 'adjustable', 'front', 'tie...</td>\n",
       "      <td>0.458333</td>\n",
       "    </tr>\n",
       "    <tr>\n",
       "      <th>6</th>\n",
       "      <td>1</td>\n",
       "      <td>['aded', 'basket', 'hte', 'last', 'mintue', 's...</td>\n",
       "      <td>0.075625</td>\n",
       "    </tr>\n",
       "  </tbody>\n",
       "</table>\n",
       "</div>"
      ],
      "text/plain": [
       "   recommended                                         lemmatized  polarity\n",
       "0            1  ['absolutely', 'wonderful', 'silky', 'sexy', '...  0.633333\n",
       "1            1  ['love', 'sooo', 'pretty', 'happen', 'find', '...  0.318750\n",
       "3            1  ['love', 'love', 'love', 'jumpsuit', 'fun', 'f...  0.500000\n",
       "4            1  ['flatter', 'due', 'adjustable', 'front', 'tie...  0.458333\n",
       "6            1  ['aded', 'basket', 'hte', 'last', 'mintue', 's...  0.075625"
      ]
     },
     "execution_count": 9,
     "metadata": {},
     "output_type": "execute_result"
    }
   ],
   "source": [
    "# Polarity of positive dataframe\n",
    "\n",
    "pos_df['polarity'] = pos_df['lemmatized'].apply(lambda x: TextBlob(x).sentiment.polarity)\n",
    "pos_df.head(5)"
   ]
  },
  {
   "cell_type": "code",
   "execution_count": 10,
   "metadata": {},
   "outputs": [
    {
     "data": {
      "text/plain": [
       "count    18540.000000\n",
       "mean         0.267034\n",
       "std          0.179089\n",
       "min         -0.700000\n",
       "25%          0.149148\n",
       "50%          0.253244\n",
       "75%          0.373469\n",
       "max          1.000000\n",
       "Name: polarity, dtype: float64"
      ]
     },
     "execution_count": 10,
     "metadata": {},
     "output_type": "execute_result"
    }
   ],
   "source": [
    "pos_df['polarity'].describe()"
   ]
  },
  {
   "cell_type": "code",
   "execution_count": 11,
   "metadata": {},
   "outputs": [
    {
     "data": {
      "text/html": [
       "<div>\n",
       "<style scoped>\n",
       "    .dataframe tbody tr th:only-of-type {\n",
       "        vertical-align: middle;\n",
       "    }\n",
       "\n",
       "    .dataframe tbody tr th {\n",
       "        vertical-align: top;\n",
       "    }\n",
       "\n",
       "    .dataframe thead th {\n",
       "        text-align: right;\n",
       "    }\n",
       "</style>\n",
       "<table border=\"1\" class=\"dataframe\">\n",
       "  <thead>\n",
       "    <tr style=\"text-align: right;\">\n",
       "      <th></th>\n",
       "      <th>recommended</th>\n",
       "      <th>lemmatized</th>\n",
       "      <th>polarity</th>\n",
       "    </tr>\n",
       "  </thead>\n",
       "  <tbody>\n",
       "    <tr>\n",
       "      <th>2</th>\n",
       "      <td>0</td>\n",
       "      <td>['high', 'hope', 'really', 'want', 'work', 'in...</td>\n",
       "      <td>0.045530</td>\n",
       "    </tr>\n",
       "    <tr>\n",
       "      <th>5</th>\n",
       "      <td>0</td>\n",
       "      <td>['love', 'tracy', 'reese', 'dress', 'petite', ...</td>\n",
       "      <td>0.106250</td>\n",
       "    </tr>\n",
       "    <tr>\n",
       "      <th>10</th>\n",
       "      <td>0</td>\n",
       "      <td>['run', 'small', 'esp', 'zipper', 'area', 'run...</td>\n",
       "      <td>-0.078571</td>\n",
       "    </tr>\n",
       "    <tr>\n",
       "      <th>22</th>\n",
       "      <td>0</td>\n",
       "      <td>['first', 'pullover', 'style', 'side', 'zipper...</td>\n",
       "      <td>-0.058095</td>\n",
       "    </tr>\n",
       "    <tr>\n",
       "      <th>25</th>\n",
       "      <td>0</td>\n",
       "      <td>['love', 'didnt', 'really', 'long', 'purchase'...</td>\n",
       "      <td>0.207653</td>\n",
       "    </tr>\n",
       "  </tbody>\n",
       "</table>\n",
       "</div>"
      ],
      "text/plain": [
       "    recommended                                         lemmatized  polarity\n",
       "2             0  ['high', 'hope', 'really', 'want', 'work', 'in...  0.045530\n",
       "5             0  ['love', 'tracy', 'reese', 'dress', 'petite', ...  0.106250\n",
       "10            0  ['run', 'small', 'esp', 'zipper', 'area', 'run... -0.078571\n",
       "22            0  ['first', 'pullover', 'style', 'side', 'zipper... -0.058095\n",
       "25            0  ['love', 'didnt', 'really', 'long', 'purchase'...  0.207653"
      ]
     },
     "execution_count": 11,
     "metadata": {},
     "output_type": "execute_result"
    }
   ],
   "source": [
    "# Polarity of negative dataframe\n",
    "\n",
    "neg_df['polarity'] = neg_df['lemmatized'].apply(lambda x: TextBlob(x).sentiment.polarity)\n",
    "neg_df.head(5)"
   ]
  },
  {
   "cell_type": "code",
   "execution_count": 12,
   "metadata": {},
   "outputs": [
    {
     "data": {
      "text/plain": [
       "count    4101.000000\n",
       "mean        0.115536\n",
       "std         0.183357\n",
       "min        -1.000000\n",
       "25%         0.002500\n",
       "50%         0.110897\n",
       "75%         0.220635\n",
       "max         0.900000\n",
       "Name: polarity, dtype: float64"
      ]
     },
     "execution_count": 12,
     "metadata": {},
     "output_type": "execute_result"
    }
   ],
   "source": [
    "# The mean polarity of the 'negative' reviews was 0.1 (which actually is positive)\n",
    "# The highest polarity on the negative dataframe is 0.9 which indicate that there might be a few positive reviews \n",
    "# which has been rated 'not recommended'\n",
    "\n",
    "neg_df['polarity'].describe()"
   ]
  },
  {
   "cell_type": "code",
   "execution_count": 13,
   "metadata": {},
   "outputs": [],
   "source": [
    "# Create two balanced samples for the analysis\n",
    "\n",
    "pos_sample = pos_df.sample(4000)\n",
    "neg_sample = neg_df.sample(4000)"
   ]
  },
  {
   "cell_type": "code",
   "execution_count": 14,
   "metadata": {},
   "outputs": [
    {
     "data": {
      "text/plain": [
       "count    4000.000000\n",
       "mean        0.268426\n",
       "std         0.178669\n",
       "min        -0.333333\n",
       "25%         0.149256\n",
       "50%         0.254056\n",
       "75%         0.371317\n",
       "max         1.000000\n",
       "Name: polarity, dtype: float64"
      ]
     },
     "execution_count": 14,
     "metadata": {},
     "output_type": "execute_result"
    }
   ],
   "source": [
    "pos_sample['polarity'].describe()"
   ]
  },
  {
   "cell_type": "code",
   "execution_count": 15,
   "metadata": {},
   "outputs": [
    {
     "data": {
      "text/plain": [
       "count    4000.000000\n",
       "mean        0.115380\n",
       "std         0.183614\n",
       "min        -1.000000\n",
       "25%         0.002177\n",
       "50%         0.110714\n",
       "75%         0.221136\n",
       "max         0.900000\n",
       "Name: polarity, dtype: float64"
      ]
     },
     "execution_count": 15,
     "metadata": {},
     "output_type": "execute_result"
    }
   ],
   "source": [
    "neg_sample['polarity'].describe()"
   ]
  },
  {
   "cell_type": "markdown",
   "metadata": {},
   "source": [
    "# Hypothesis 1: \n",
    "\n",
    "H0: There is no significant difference in the mean polarity of the 'positive sample' and the mean polarity of all 'positive' reviews.\n",
    "\n",
    "HA: There is significant difference in the mean polarity of the 'positive sample' and the mean polarity of all 'positive' reviews.\n",
    "\n",
    "Since the variance of the population (the full positive sample) is known we will use a Z-test.\n",
    "\n",
    "Rejection Region for Two-Tailed Z Test (H0: μ ≠ μ 0 ) with α =0.05. \n",
    "The decision rule is: Reject H0 if Z < -1.960 or if Z > 1.960.\n"
   ]
  },
  {
   "cell_type": "code",
   "execution_count": 16,
   "metadata": {},
   "outputs": [],
   "source": [
    "p_n = 4000\n",
    "p_pop_mean = 0.267034\n",
    "p_sample_mean = 0.270990\n",
    "p_pop_std = 0.178884\n",
    "\n",
    "p_statistic = (p_sample_mean - p_pop_mean) / (p_pop_std / math.sqrt(p_n))"
   ]
  },
  {
   "cell_type": "code",
   "execution_count": 17,
   "metadata": {},
   "outputs": [
    {
     "name": "stdout",
     "output_type": "stream",
     "text": [
      "The Z statistic is:  1.3986684581769366\n"
     ]
    }
   ],
   "source": [
    "print('The Z statistic is: ', p_statistic)"
   ]
  },
  {
   "cell_type": "markdown",
   "metadata": {},
   "source": [
    "Since 1.39 < 1.96 we do not reject the null hypothesis at 95% significance. \n"
   ]
  },
  {
   "cell_type": "markdown",
   "metadata": {},
   "source": [
    "# Hypothesis 2: \n",
    "\n",
    "H0: There is no significant difference in the mean polarity of the 'negative sample' and the mean polarity of all 'negative' reviews.\n",
    "\n",
    "HA: There is significant difference in the mean polarity of the 'negative sample' and the mean polarity of all 'negative' reviews.\n",
    "\n",
    "The decision rule is: Reject H0 if Z < -1.960 or if Z > 1.960."
   ]
  },
  {
   "cell_type": "code",
   "execution_count": 18,
   "metadata": {},
   "outputs": [],
   "source": [
    "n_n = 4000\n",
    "n_pop_mean = 0.115536\n",
    "n_sample_mean = 0.115348\n",
    "n_pop_std = 0.183100\n",
    "\n",
    "n_statistic = (n_sample_mean - n_pop_mean) / (n_pop_std / math.sqrt(n_n))"
   ]
  },
  {
   "cell_type": "code",
   "execution_count": 19,
   "metadata": {},
   "outputs": [
    {
     "name": "stdout",
     "output_type": "stream",
     "text": [
      "The Z statistic is:  -0.06493808848843642\n"
     ]
    }
   ],
   "source": [
    "print('The Z statistic is: ', n_statistic)"
   ]
  },
  {
   "cell_type": "markdown",
   "metadata": {},
   "source": [
    "Since -0.06 > -1.96 we do not reject the null hypothesis at 95% significance. \n"
   ]
  },
  {
   "cell_type": "code",
   "execution_count": 20,
   "metadata": {},
   "outputs": [],
   "source": [
    "# Since there is no significant difference in the polarity we can assume that the samples are representative\n",
    "\n",
    "# Create a new dataframe including both samples\n",
    "\n",
    "new_df = pd.concat([pos_sample, neg_sample])"
   ]
  },
  {
   "cell_type": "code",
   "execution_count": 21,
   "metadata": {},
   "outputs": [],
   "source": [
    "new_df = new_df.reset_index(drop = True)"
   ]
  },
  {
   "cell_type": "code",
   "execution_count": 22,
   "metadata": {},
   "outputs": [
    {
     "data": {
      "text/html": [
       "<div>\n",
       "<style scoped>\n",
       "    .dataframe tbody tr th:only-of-type {\n",
       "        vertical-align: middle;\n",
       "    }\n",
       "\n",
       "    .dataframe tbody tr th {\n",
       "        vertical-align: top;\n",
       "    }\n",
       "\n",
       "    .dataframe thead th {\n",
       "        text-align: right;\n",
       "    }\n",
       "</style>\n",
       "<table border=\"1\" class=\"dataframe\">\n",
       "  <thead>\n",
       "    <tr style=\"text-align: right;\">\n",
       "      <th></th>\n",
       "      <th>recommended</th>\n",
       "      <th>lemmatized</th>\n",
       "      <th>polarity</th>\n",
       "    </tr>\n",
       "  </thead>\n",
       "  <tbody>\n",
       "    <tr>\n",
       "      <th>0</th>\n",
       "      <td>1</td>\n",
       "      <td>['order', 'xl', 'perfect', 'drape', 'flatterin...</td>\n",
       "      <td>0.523611</td>\n",
       "    </tr>\n",
       "    <tr>\n",
       "      <th>1</th>\n",
       "      <td>1</td>\n",
       "      <td>['look', 'great', 'give', 'slender', 'appearan...</td>\n",
       "      <td>0.544444</td>\n",
       "    </tr>\n",
       "    <tr>\n",
       "      <th>2</th>\n",
       "      <td>1</td>\n",
       "      <td>['tie', 'two', 'different', 'material', 'soft'...</td>\n",
       "      <td>0.150000</td>\n",
       "    </tr>\n",
       "    <tr>\n",
       "      <th>3</th>\n",
       "      <td>1</td>\n",
       "      <td>['gorgeous', 'absolutely', 'stunning', 'look',...</td>\n",
       "      <td>0.223852</td>\n",
       "    </tr>\n",
       "    <tr>\n",
       "      <th>4</th>\n",
       "      <td>1</td>\n",
       "      <td>['yearold', 'daughter', 'fell', 'love', 'saw',...</td>\n",
       "      <td>0.166667</td>\n",
       "    </tr>\n",
       "    <tr>\n",
       "      <th>...</th>\n",
       "      <td>...</td>\n",
       "      <td>...</td>\n",
       "      <td>...</td>\n",
       "    </tr>\n",
       "    <tr>\n",
       "      <th>7995</th>\n",
       "      <td>0</td>\n",
       "      <td>['extremely', 'disappointed', 'arrive', 'nothi...</td>\n",
       "      <td>-0.245476</td>\n",
       "    </tr>\n",
       "    <tr>\n",
       "      <th>7996</th>\n",
       "      <td>0</td>\n",
       "      <td>['cute', 'seem', 'high', 'quality', 'love', 'k...</td>\n",
       "      <td>0.290000</td>\n",
       "    </tr>\n",
       "    <tr>\n",
       "      <th>7997</th>\n",
       "      <td>0</td>\n",
       "      <td>['texture', 'didnt', 'meet', 'expectation', 'u...</td>\n",
       "      <td>0.050000</td>\n",
       "    </tr>\n",
       "    <tr>\n",
       "      <th>7998</th>\n",
       "      <td>0</td>\n",
       "      <td>['lovely', 'cut', 'pretty', 'creamy', 'great',...</td>\n",
       "      <td>0.271795</td>\n",
       "    </tr>\n",
       "    <tr>\n",
       "      <th>7999</th>\n",
       "      <td>0</td>\n",
       "      <td>['initially', 'saw', 'month', 'ago', 'fell', '...</td>\n",
       "      <td>0.202797</td>\n",
       "    </tr>\n",
       "  </tbody>\n",
       "</table>\n",
       "<p>8000 rows × 3 columns</p>\n",
       "</div>"
      ],
      "text/plain": [
       "      recommended                                         lemmatized  polarity\n",
       "0               1  ['order', 'xl', 'perfect', 'drape', 'flatterin...  0.523611\n",
       "1               1  ['look', 'great', 'give', 'slender', 'appearan...  0.544444\n",
       "2               1  ['tie', 'two', 'different', 'material', 'soft'...  0.150000\n",
       "3               1  ['gorgeous', 'absolutely', 'stunning', 'look',...  0.223852\n",
       "4               1  ['yearold', 'daughter', 'fell', 'love', 'saw',...  0.166667\n",
       "...           ...                                                ...       ...\n",
       "7995            0  ['extremely', 'disappointed', 'arrive', 'nothi... -0.245476\n",
       "7996            0  ['cute', 'seem', 'high', 'quality', 'love', 'k...  0.290000\n",
       "7997            0  ['texture', 'didnt', 'meet', 'expectation', 'u...  0.050000\n",
       "7998            0  ['lovely', 'cut', 'pretty', 'creamy', 'great',...  0.271795\n",
       "7999            0  ['initially', 'saw', 'month', 'ago', 'fell', '...  0.202797\n",
       "\n",
       "[8000 rows x 3 columns]"
      ]
     },
     "execution_count": 22,
     "metadata": {},
     "output_type": "execute_result"
    }
   ],
   "source": [
    "new_df"
   ]
  },
  {
   "cell_type": "code",
   "execution_count": 23,
   "metadata": {},
   "outputs": [],
   "source": [
    "X = new_df['lemmatized']\n",
    "y = new_df['recommended']\n",
    "\n",
    "X_train, X_test, y_train, y_test = train_test_split(X, y, test_size = 0.2, random_state = 0)"
   ]
  },
  {
   "cell_type": "code",
   "execution_count": 24,
   "metadata": {},
   "outputs": [
    {
     "data": {
      "text/plain": [
       "1001    ['love', 'asymmetrical', 'zipper', 'soft', 'co...\n",
       "7360    ['like', 'allbut', 'look', 'prior', 'purchasin...\n",
       "5234    ['want', 'love', 'excite', 'ordered', 'online'...\n",
       "7390    ['adorable', 'love', 'lace', 'detail', 'side',...\n",
       "6841    ['curvy', 'stylish', 'love', 'pocket', 'didnt'...\n",
       "                              ...                        \n",
       "4931    ['head', 'romper', 'pant', 'cant', 'tell', 'pi...\n",
       "3264    ['feel', 'hang', 'nicely', 'versatile', 'purch...\n",
       "1653    ['ordered', 'neutral', 'p', 'hem', 'lb', 'wear...\n",
       "2607    ['buy', 'dress', 'online', 'attempt', 'find', ...\n",
       "2732    ['month', 'post', 'baby', 'still', 'body', 'se...\n",
       "Name: lemmatized, Length: 6400, dtype: object"
      ]
     },
     "execution_count": 24,
     "metadata": {},
     "output_type": "execute_result"
    }
   ],
   "source": [
    "X_train"
   ]
  },
  {
   "cell_type": "code",
   "execution_count": 25,
   "metadata": {},
   "outputs": [
    {
     "data": {
      "text/plain": [
       "3069    ['tried', 'fluke', 'work', 'retailer', 'like',...\n",
       "1675    ['love', 'get', 'blue', 'color', 'deep', 'beau...\n",
       "6385    ['love', 'tracy', 'reese', 'dress', 'petite', ...\n",
       "543     ['hard', 'time', 'find', 'slack', 'step', 'gre...\n",
       "3213    ['love', 'charlie', 'trouser', 'must', 'pair',...\n",
       "                              ...                        \n",
       "7716    ['much', 'buy', 'retailer', 'first', 'review',...\n",
       "4766    ['design', 'nice', 'texture', 'feel', 'comfort...\n",
       "4096    ['much', 'potential', 'love', 'pattern', 'neck...\n",
       "1595    ['agree', 'good', 'review', 'love', 'feel', 'v...\n",
       "5023    ['particularly', 'large', 'thigh', 'pair', 'pa...\n",
       "Name: lemmatized, Length: 1600, dtype: object"
      ]
     },
     "execution_count": 25,
     "metadata": {},
     "output_type": "execute_result"
    }
   ],
   "source": [
    "X_test"
   ]
  },
  {
   "cell_type": "code",
   "execution_count": 26,
   "metadata": {},
   "outputs": [
    {
     "data": {
      "text/plain": [
       "1001    1\n",
       "7360    0\n",
       "5234    0\n",
       "7390    0\n",
       "6841    0\n",
       "       ..\n",
       "4931    0\n",
       "3264    1\n",
       "1653    1\n",
       "2607    1\n",
       "2732    1\n",
       "Name: recommended, Length: 6400, dtype: int64"
      ]
     },
     "execution_count": 26,
     "metadata": {},
     "output_type": "execute_result"
    }
   ],
   "source": [
    "y_train"
   ]
  },
  {
   "cell_type": "code",
   "execution_count": 27,
   "metadata": {},
   "outputs": [
    {
     "data": {
      "text/plain": [
       "3069    1\n",
       "1675    1\n",
       "6385    0\n",
       "543     1\n",
       "3213    1\n",
       "       ..\n",
       "7716    0\n",
       "4766    0\n",
       "4096    0\n",
       "1595    1\n",
       "5023    0\n",
       "Name: recommended, Length: 1600, dtype: int64"
      ]
     },
     "execution_count": 27,
     "metadata": {},
     "output_type": "execute_result"
    }
   ],
   "source": [
    "y_test"
   ]
  },
  {
   "cell_type": "markdown",
   "metadata": {},
   "source": [
    "# Naive Bayes (Multinomial)"
   ]
  },
  {
   "cell_type": "code",
   "execution_count": 29,
   "metadata": {},
   "outputs": [],
   "source": [
    "# I create a model pipeline including the vectorizer, TfidfTransformer and classifier\n",
    "\n",
    "model_nb = Pipeline([('vect', CountVectorizer(min_df = 5, ngram_range = (1,2))),     # ignore terms that have a document frequency lower than 5\n",
    "                   ('tfidf', TfidfTransformer()),                                    # include unigrams and bigrams\n",
    "                   ('clf', MultinomialNB()),\n",
    "                   ])\n",
    "\n",
    "model_nb.fit(X_train, y_train)\n",
    "\n",
    "ytest = np.array(y_test)\n",
    "pred_y = model_nb.predict(X_test)"
   ]
  },
  {
   "cell_type": "code",
   "execution_count": 30,
   "metadata": {},
   "outputs": [
    {
     "name": "stdout",
     "output_type": "stream",
     "text": [
      "The model accuracy is 0.863125\n",
      "              precision    recall  f1-score   support\n",
      "\n",
      "           0       0.85      0.88      0.86       790\n",
      "           1       0.88      0.85      0.86       810\n",
      "\n",
      "    accuracy                           0.86      1600\n",
      "   macro avg       0.86      0.86      0.86      1600\n",
      "weighted avg       0.86      0.86      0.86      1600\n",
      "\n"
     ]
    }
   ],
   "source": [
    "print('The model accuracy is %s' % accuracy_score(pred_y, y_test))\n",
    "print(classification_report(ytest, pred_y))"
   ]
  },
  {
   "cell_type": "code",
   "execution_count": 47,
   "metadata": {},
   "outputs": [
    {
     "name": "stdout",
     "output_type": "stream",
     "text": [
      "[[653 137]\n",
      " [129 681]]\n"
     ]
    }
   ],
   "source": [
    "print(confusion_matrix(ytest, pred_y))"
   ]
  },
  {
   "cell_type": "code",
   "execution_count": 48,
   "metadata": {},
   "outputs": [
    {
     "data": {
      "image/png": "[encoded data removed]",
      "text/plain": [
       "<Figure size 432x288 with 2 Axes>"
      ]
     },
     "metadata": {
      "needs_background": "light"
     },
     "output_type": "display_data"
    }
   ],
   "source": [
    "import matplotlib.pyplot as plt\n",
    "import seaborn as sns\n",
    "from sklearn import metrics\n",
    "import numpy as np\n",
    "\n",
    "cnf_matrix = metrics.confusion_matrix(ytest, pred_y)\n",
    "cnf_matrix\n",
    "fig, ax = plt.subplots()\n",
    "tick_marks = np.arange(len(class_names))\n",
    "plt.xticks(tick_marks, class_names)\n",
    "plt.yticks(tick_marks, class_names)\n",
    "\n",
    "# create heatmap\n",
    "sns.heatmap(pd.DataFrame(cnf_matrix), annot = True, cmap = \"YlGnBu\" ,fmt = 'g')\n",
    "ax.xaxis.set_label_position(\"top\")\n",
    "plt.tight_layout()\n",
    "plt.title('Confusion matrix', y = 1.1)\n",
    "plt.ylabel('Actual label')\n",
    "plt.xlabel('Predicted label');"
   ]
  },
  {
   "cell_type": "markdown",
   "metadata": {},
   "source": [
    "We will compare the results from the Multinomial Naive Bayes model with some other common models"
   ]
  },
  {
   "cell_type": "markdown",
   "metadata": {},
   "source": [
    "# Logistic Regression"
   ]
  },
  {
   "cell_type": "code",
   "execution_count": 49,
   "metadata": {},
   "outputs": [],
   "source": [
    "model_lr = Pipeline([('vect', CountVectorizer(min_df = 5, ngram_range = (1,2))),\n",
    "                   ('tfidf', TfidfTransformer()),\n",
    "                   ('clf', LogisticRegression()),\n",
    "                   ])\n",
    "\n",
    "model_lr.fit(X_train, y_train)\n",
    "\n",
    "ytest = np.array(y_test)\n",
    "pred_y = model_lr.predict(X_test)"
   ]
  },
  {
   "cell_type": "code",
   "execution_count": 50,
   "metadata": {},
   "outputs": [
    {
     "name": "stdout",
     "output_type": "stream",
     "text": [
      "accuracy 0.861875\n",
      "              precision    recall  f1-score   support\n",
      "\n",
      "           0       0.86      0.86      0.86       790\n",
      "           1       0.86      0.86      0.86       810\n",
      "\n",
      "    accuracy                           0.86      1600\n",
      "   macro avg       0.86      0.86      0.86      1600\n",
      "weighted avg       0.86      0.86      0.86      1600\n",
      "\n"
     ]
    }
   ],
   "source": [
    "print('accuracy %s' % accuracy_score(pred_y, y_test))\n",
    "print(classification_report(ytest, pred_y))"
   ]
  },
  {
   "cell_type": "code",
   "execution_count": 51,
   "metadata": {},
   "outputs": [
    {
     "name": "stdout",
     "output_type": "stream",
     "text": [
      "[[680 110]\n",
      " [111 699]]\n"
     ]
    }
   ],
   "source": [
    "print(confusion_matrix(ytest, pred_y))"
   ]
  },
  {
   "cell_type": "markdown",
   "metadata": {},
   "source": [
    "# DecisionTree"
   ]
  },
  {
   "cell_type": "code",
   "execution_count": 52,
   "metadata": {},
   "outputs": [],
   "source": [
    "model_dt = Pipeline([('vect', CountVectorizer(min_df = 5, ngram_range = (1,2))),\n",
    "                   ('tfidf', TfidfTransformer()),\n",
    "                   ('clf', DecisionTreeClassifier()),\n",
    "                   ])\n",
    "\n",
    "model_dt.fit(X_train, y_train)\n",
    "\n",
    "ytest = np.array(y_test)\n",
    "pred_y = model_dt.predict(X_test)"
   ]
  },
  {
   "cell_type": "code",
   "execution_count": 53,
   "metadata": {},
   "outputs": [
    {
     "name": "stdout",
     "output_type": "stream",
     "text": [
      "accuracy 0.741875\n",
      "              precision    recall  f1-score   support\n",
      "\n",
      "           0       0.75      0.72      0.73       790\n",
      "           1       0.74      0.76      0.75       810\n",
      "\n",
      "    accuracy                           0.74      1600\n",
      "   macro avg       0.74      0.74      0.74      1600\n",
      "weighted avg       0.74      0.74      0.74      1600\n",
      "\n"
     ]
    }
   ],
   "source": [
    "print('accuracy %s' % accuracy_score(pred_y, y_test))\n",
    "print(classification_report(ytest, pred_y))"
   ]
  },
  {
   "cell_type": "code",
   "execution_count": 54,
   "metadata": {},
   "outputs": [
    {
     "name": "stdout",
     "output_type": "stream",
     "text": [
      "[[568 222]\n",
      " [191 619]]\n"
     ]
    }
   ],
   "source": [
    "print(confusion_matrix(ytest, pred_y))"
   ]
  },
  {
   "cell_type": "markdown",
   "metadata": {},
   "source": [
    "# Random Forest"
   ]
  },
  {
   "cell_type": "code",
   "execution_count": 55,
   "metadata": {},
   "outputs": [],
   "source": [
    "model_rf = Pipeline([('vect', CountVectorizer(min_df = 5, ngram_range = (1,2))),\n",
    "                   ('tfidf', TfidfTransformer()),\n",
    "                   ('clf', RandomForestClassifier()),\n",
    "                   ])\n",
    "\n",
    "model_rf.fit(X_train, y_train)\n",
    "\n",
    "ytest = np.array(y_test)\n",
    "pred_y = model_rf.predict(X_test)"
   ]
  },
  {
   "cell_type": "code",
   "execution_count": 56,
   "metadata": {},
   "outputs": [
    {
     "name": "stdout",
     "output_type": "stream",
     "text": [
      "accuracy 0.844375\n",
      "              precision    recall  f1-score   support\n",
      "\n",
      "           0       0.85      0.83      0.84       790\n",
      "           1       0.84      0.85      0.85       810\n",
      "\n",
      "    accuracy                           0.84      1600\n",
      "   macro avg       0.84      0.84      0.84      1600\n",
      "weighted avg       0.84      0.84      0.84      1600\n",
      "\n"
     ]
    }
   ],
   "source": [
    "print('accuracy %s' % accuracy_score(pred_y, y_test))\n",
    "print(classification_report(ytest, pred_y))"
   ]
  },
  {
   "cell_type": "code",
   "execution_count": 57,
   "metadata": {},
   "outputs": [
    {
     "name": "stdout",
     "output_type": "stream",
     "text": [
      "[[659 131]\n",
      " [118 692]]\n"
     ]
    }
   ],
   "source": [
    "print(confusion_matrix(ytest, pred_y))"
   ]
  },
  {
   "cell_type": "markdown",
   "metadata": {},
   "source": [
    "# Support Vector Machines (SVM)"
   ]
  },
  {
   "cell_type": "code",
   "execution_count": 60,
   "metadata": {},
   "outputs": [],
   "source": [
    "model_svm = Pipeline([('vect', CountVectorizer(min_df = 5, ngram_range = (1,2))),\n",
    "                   ('tfidf', TfidfTransformer()),\n",
    "                   ('clf', svm.SVC()),\n",
    "                   ])\n",
    "\n",
    "model_svm.fit(X_train, y_train)\n",
    "\n",
    "ytest = np.array(y_test)\n",
    "pred_y = model_svm.predict(X_test)"
   ]
  },
  {
   "cell_type": "code",
   "execution_count": 61,
   "metadata": {},
   "outputs": [
    {
     "name": "stdout",
     "output_type": "stream",
     "text": [
      "accuracy 0.86125\n",
      "              precision    recall  f1-score   support\n",
      "\n",
      "           0       0.85      0.87      0.86       790\n",
      "           1       0.87      0.86      0.86       810\n",
      "\n",
      "    accuracy                           0.86      1600\n",
      "   macro avg       0.86      0.86      0.86      1600\n",
      "weighted avg       0.86      0.86      0.86      1600\n",
      "\n"
     ]
    }
   ],
   "source": [
    "print('accuracy %s' % accuracy_score(pred_y, y_test))\n",
    "print(classification_report(ytest, pred_y))"
   ]
  },
  {
   "cell_type": "code",
   "execution_count": 62,
   "metadata": {},
   "outputs": [
    {
     "name": "stdout",
     "output_type": "stream",
     "text": [
      "[[685 105]\n",
      " [117 693]]\n"
     ]
    }
   ],
   "source": [
    "print(confusion_matrix(ytest, pred_y))"
   ]
  },
  {
   "cell_type": "markdown",
   "metadata": {},
   "source": [
    "Using the same test and train set, Naive Bayes, SVM and Logistic Regression all had an accuray of 86%. Followed by Random Forest at 84%. Decision Tree preformed worst at 74%.\n",
    "\n",
    "This indicate that Naive Bayes is a good predictor of sentiment in reviews."
   ]
  },
  {
   "cell_type": "code",
   "execution_count": null,
   "metadata": {},
   "outputs": [],
   "source": []
  }
 ],
 "metadata": {
  "kernelspec": {
   "display_name": "Python 3",
   "language": "python",
   "name": "python3"
  },
  "language_info": {
   "codemirror_mode": {
    "name": "ipython",
    "version": 3
   },
   "file_extension": ".py",
   "mimetype": "text/x-python",
   "name": "python",
   "nbconvert_exporter": "python",
   "pygments_lexer": "ipython3",
   "version": "3.7.6"
  }
 },
 "nbformat": 4,
 "nbformat_minor": 4
}
