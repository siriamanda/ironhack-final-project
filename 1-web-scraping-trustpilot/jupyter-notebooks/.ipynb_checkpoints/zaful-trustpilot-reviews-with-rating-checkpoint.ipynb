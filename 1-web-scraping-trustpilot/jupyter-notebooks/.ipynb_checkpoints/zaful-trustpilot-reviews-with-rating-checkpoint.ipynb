{
 "cells": [
  {
   "cell_type": "code",
   "execution_count": null,
   "metadata": {},
   "outputs": [],
   "source": [
    "# Import the libraries\n",
    "\n",
    "from bs4 import BeautifulSoup\n",
    "import pandas as pd\n",
    "import json\n",
    "import requests\n",
    "from random import randint\n",
    "import time\n",
    "import re\n",
    "import csv"
   ]
  },
  {
   "cell_type": "code",
   "execution_count": null,
   "metadata": {},
   "outputs": [],
   "source": [
    "# Create data storage\n",
    "\n",
    "pages = []\n",
    "review = []\n",
    "date = []\n",
    "stars = []\n",
    "\n",
    "# I am using a for loop to iterate through the pages and save the date and review information in the lists\n",
    "\n",
    "url = 'https://www.trustpilot.com/review/zaful.com'\n",
    "for i in range(1000):\n",
    "    pg = url + '?page=' + str(i)\n",
    "    r = requests.get(pg)\n",
    "    soup = BeautifulSoup(r.text, 'lxml')\n",
    "\n",
    "    print(\"Status code: \" + str(r.status_code))     # Ensure that we are able to download data from all pages\n",
    "\n",
    "    # store response into \"pages\" list\n",
    "    pages.append(r)\n",
    "\n",
    "    # adding wait time:\n",
    "    wait_time = randint(1,4)\n",
    "    print(\"I will sleep for \" + str(wait_time) + \" second/s.\")\n",
    "    time.sleep(wait_time)\n",
    "    \n",
    "    for star in soup.find_all(\"section\", {\"class\":\"review__content\"}):\n",
    "        rating = star.find(\"div\", {\"class\":\"star-rating star-rating--medium\"}).find('img').get('alt')\n",
    "        stars.append(rating)\n",
    "            \n",
    "    for i in range(len(soup.select(\"div.review-content__body\"))):\n",
    "        date.append(soup.select(\"div.review-content__header\")[i].get_text())\n",
    "        review.append(soup.select(\"div.review-content__body\")[i].get_text())\n",
    "        "
   ]
  },
  {
   "cell_type": "code",
   "execution_count": null,
   "metadata": {},
   "outputs": [],
   "source": [
    "# Extract the date using regex\n",
    "\n",
    "clean_date = []\n",
    "for string in date:\n",
    "    clean_date.append(re.findall(r'\\d{4}-\\d{2}-\\d{2}', string))\n",
    "#clean_date"
   ]
  },
  {
   "cell_type": "code",
   "execution_count": null,
   "metadata": {},
   "outputs": [],
   "source": [
    "# Save only the first date in a new list\n",
    "\n",
    "final_date = []\n",
    "for i in range(len(clean_date)):\n",
    "    final_date.append(clean_date[i][0])"
   ]
  },
  {
   "cell_type": "code",
   "execution_count": null,
   "metadata": {},
   "outputs": [],
   "source": [
    "# final_date"
   ]
  },
  {
   "cell_type": "code",
   "execution_count": null,
   "metadata": {},
   "outputs": [],
   "source": [
    "# Clean extracted reviews\n",
    "\n",
    "clean_review = []\n",
    "for string in review:\n",
    "    clean_review.append(string.strip())\n",
    "#clean_review"
   ]
  },
  {
   "cell_type": "code",
   "execution_count": null,
   "metadata": {},
   "outputs": [],
   "source": [
    "# Save reviews in a dataframe\n",
    "\n",
    "zaful_reviews = pd.DataFrame({\"date\": final_date,\n",
    "                             \"review\": clean_review,\n",
    "                              \"rating\": stars})"
   ]
  },
  {
   "cell_type": "code",
   "execution_count": null,
   "metadata": {},
   "outputs": [],
   "source": [
    "zaful_reviews"
   ]
  },
  {
   "cell_type": "code",
   "execution_count": null,
   "metadata": {},
   "outputs": [],
   "source": [
    "# Drop duplicates\n",
    "\n",
    "zaful_reviews = zaful_reviews.drop_duplicates(subset = 'review', keep = 'first')"
   ]
  },
  {
   "cell_type": "code",
   "execution_count": null,
   "metadata": {},
   "outputs": [],
   "source": [
    "# Reset index\n",
    "\n",
    "zaful_reviews = zaful_reviews.reset_index(drop = True)"
   ]
  },
  {
   "cell_type": "code",
   "execution_count": null,
   "metadata": {},
   "outputs": [],
   "source": [
    "# Save dataframe as a csv file\n",
    "\n",
    "zaful_reviews.to_csv('zaful_reviews_9_dec_stars.csv')"
   ]
  },
  {
   "cell_type": "code",
   "execution_count": null,
   "metadata": {},
   "outputs": [],
   "source": [
    "# Read csv file\n",
    "\n",
    "zaful_reviews = pd.read_csv('zaful_reviews_9_dec_stars.csv')"
   ]
  },
  {
   "cell_type": "code",
   "execution_count": null,
   "metadata": {},
   "outputs": [],
   "source": [
    "# Remove whitespces from the reviews using regex\n",
    "\n",
    "zaful_reviews = zaful_reviews.replace(to_replace=[r\"\\\\t|\\\\n|\\\\r\", \"\\t|\\n|\\r\"], value = [\"\",\"\"], regex = True)"
   ]
  },
  {
   "cell_type": "code",
   "execution_count": null,
   "metadata": {},
   "outputs": [],
   "source": [
    "# Save to csv again\n",
    "\n",
    "zaful_reviews.to_csv('zaful-reviews-with-rating.csv')"
   ]
  },
  {
   "cell_type": "code",
   "execution_count": null,
   "metadata": {},
   "outputs": [],
   "source": []
  }
 ],
 "metadata": {
  "kernelspec": {
   "display_name": "Python 3",
   "language": "python",
   "name": "python3"
  },
  "language_info": {
   "codemirror_mode": {
    "name": "ipython",
    "version": 3
   },
   "file_extension": ".py",
   "mimetype": "text/x-python",
   "name": "python",
   "nbconvert_exporter": "python",
   "pygments_lexer": "ipython3",
   "version": "3.7.6"
  }
 },
 "nbformat": 4,
 "nbformat_minor": 4
}
